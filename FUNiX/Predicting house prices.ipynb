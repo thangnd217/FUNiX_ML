{
 "cells": [
  {
   "cell_type": "code",
   "execution_count": 2,
   "metadata": {
    "colab": {},
    "colab_type": "code",
    "id": "c3TecKmnRS6d"
   },
   "outputs": [],
   "source": [
    "import sklearn, pandas"
   ]
  },
  {
   "cell_type": "markdown",
   "metadata": {
    "colab_type": "text",
    "id": "IlDBzxVeRS6h"
   },
   "source": [
    "# Load some house sales data\n",
    "\n",
    "Dataset is from house sales in King County, the region where the city of Seattle, WA is located."
   ]
  },
  {
   "cell_type": "code",
   "execution_count": 84,
   "metadata": {
    "colab": {},
    "colab_type": "code",
    "id": "G118f3I3RS6h"
   },
   "outputs": [],
   "source": [
    "sales = pandas.read_csv(\"c:/Users/thangnd/Desktop/home_data.csv\")"
   ]
  },
  {
   "cell_type": "code",
   "execution_count": 85,
   "metadata": {
    "colab": {},
    "colab_type": "code",
    "id": "H6e8l4XsRS6k",
    "outputId": "db2b3e46-66b8-416a-fca9-67aae60943fe"
   },
   "outputs": [
    {
     "data": {
      "text/plain": [
       "(21613, 21)"
      ]
     },
     "execution_count": 85,
     "metadata": {},
     "output_type": "execute_result"
    }
   ],
   "source": [
    "sales.shape"
   ]
  },
  {
   "cell_type": "code",
   "execution_count": 88,
   "metadata": {},
   "outputs": [
    {
     "data": {
      "text/html": [
       "<div>\n",
       "<style scoped>\n",
       "    .dataframe tbody tr th:only-of-type {\n",
       "        vertical-align: middle;\n",
       "    }\n",
       "\n",
       "    .dataframe tbody tr th {\n",
       "        vertical-align: top;\n",
       "    }\n",
       "\n",
       "    .dataframe thead th {\n",
       "        text-align: right;\n",
       "    }\n",
       "</style>\n",
       "<table border=\"1\" class=\"dataframe\">\n",
       "  <thead>\n",
       "    <tr style=\"text-align: right;\">\n",
       "      <th></th>\n",
       "      <th>id</th>\n",
       "      <th>date</th>\n",
       "      <th>price</th>\n",
       "      <th>bedrooms</th>\n",
       "      <th>bathrooms</th>\n",
       "      <th>sqft_living</th>\n",
       "      <th>sqft_lot</th>\n",
       "      <th>floors</th>\n",
       "      <th>waterfront</th>\n",
       "      <th>view</th>\n",
       "      <th>...</th>\n",
       "      <th>grade</th>\n",
       "      <th>sqft_above</th>\n",
       "      <th>sqft_basement</th>\n",
       "      <th>yr_built</th>\n",
       "      <th>yr_renovated</th>\n",
       "      <th>zipcode</th>\n",
       "      <th>lat</th>\n",
       "      <th>long</th>\n",
       "      <th>sqft_living15</th>\n",
       "      <th>sqft_lot15</th>\n",
       "    </tr>\n",
       "  </thead>\n",
       "  <tbody>\n",
       "    <tr>\n",
       "      <th>0</th>\n",
       "      <td>7129300520</td>\n",
       "      <td>20141013T000000</td>\n",
       "      <td>221900</td>\n",
       "      <td>3</td>\n",
       "      <td>1.00</td>\n",
       "      <td>1180</td>\n",
       "      <td>5650</td>\n",
       "      <td>1.0</td>\n",
       "      <td>0</td>\n",
       "      <td>0</td>\n",
       "      <td>...</td>\n",
       "      <td>7</td>\n",
       "      <td>1180</td>\n",
       "      <td>0</td>\n",
       "      <td>1955</td>\n",
       "      <td>0</td>\n",
       "      <td>98178</td>\n",
       "      <td>47.5112</td>\n",
       "      <td>-122.257</td>\n",
       "      <td>1340</td>\n",
       "      <td>5650</td>\n",
       "    </tr>\n",
       "    <tr>\n",
       "      <th>1</th>\n",
       "      <td>6414100192</td>\n",
       "      <td>20141209T000000</td>\n",
       "      <td>538000</td>\n",
       "      <td>3</td>\n",
       "      <td>2.25</td>\n",
       "      <td>2570</td>\n",
       "      <td>7242</td>\n",
       "      <td>2.0</td>\n",
       "      <td>0</td>\n",
       "      <td>0</td>\n",
       "      <td>...</td>\n",
       "      <td>7</td>\n",
       "      <td>2170</td>\n",
       "      <td>400</td>\n",
       "      <td>1951</td>\n",
       "      <td>1991</td>\n",
       "      <td>98125</td>\n",
       "      <td>47.7210</td>\n",
       "      <td>-122.319</td>\n",
       "      <td>1690</td>\n",
       "      <td>7639</td>\n",
       "    </tr>\n",
       "    <tr>\n",
       "      <th>2</th>\n",
       "      <td>5631500400</td>\n",
       "      <td>20150225T000000</td>\n",
       "      <td>180000</td>\n",
       "      <td>2</td>\n",
       "      <td>1.00</td>\n",
       "      <td>770</td>\n",
       "      <td>10000</td>\n",
       "      <td>1.0</td>\n",
       "      <td>0</td>\n",
       "      <td>0</td>\n",
       "      <td>...</td>\n",
       "      <td>6</td>\n",
       "      <td>770</td>\n",
       "      <td>0</td>\n",
       "      <td>1933</td>\n",
       "      <td>0</td>\n",
       "      <td>98028</td>\n",
       "      <td>47.7379</td>\n",
       "      <td>-122.233</td>\n",
       "      <td>2720</td>\n",
       "      <td>8062</td>\n",
       "    </tr>\n",
       "    <tr>\n",
       "      <th>3</th>\n",
       "      <td>2487200875</td>\n",
       "      <td>20141209T000000</td>\n",
       "      <td>604000</td>\n",
       "      <td>4</td>\n",
       "      <td>3.00</td>\n",
       "      <td>1960</td>\n",
       "      <td>5000</td>\n",
       "      <td>1.0</td>\n",
       "      <td>0</td>\n",
       "      <td>0</td>\n",
       "      <td>...</td>\n",
       "      <td>7</td>\n",
       "      <td>1050</td>\n",
       "      <td>910</td>\n",
       "      <td>1965</td>\n",
       "      <td>0</td>\n",
       "      <td>98136</td>\n",
       "      <td>47.5208</td>\n",
       "      <td>-122.393</td>\n",
       "      <td>1360</td>\n",
       "      <td>5000</td>\n",
       "    </tr>\n",
       "    <tr>\n",
       "      <th>4</th>\n",
       "      <td>1954400510</td>\n",
       "      <td>20150218T000000</td>\n",
       "      <td>510000</td>\n",
       "      <td>3</td>\n",
       "      <td>2.00</td>\n",
       "      <td>1680</td>\n",
       "      <td>8080</td>\n",
       "      <td>1.0</td>\n",
       "      <td>0</td>\n",
       "      <td>0</td>\n",
       "      <td>...</td>\n",
       "      <td>8</td>\n",
       "      <td>1680</td>\n",
       "      <td>0</td>\n",
       "      <td>1987</td>\n",
       "      <td>0</td>\n",
       "      <td>98074</td>\n",
       "      <td>47.6168</td>\n",
       "      <td>-122.045</td>\n",
       "      <td>1800</td>\n",
       "      <td>7503</td>\n",
       "    </tr>\n",
       "  </tbody>\n",
       "</table>\n",
       "<p>5 rows × 21 columns</p>\n",
       "</div>"
      ],
      "text/plain": [
       "           id             date   price  bedrooms  bathrooms  sqft_living  \\\n",
       "0  7129300520  20141013T000000  221900         3       1.00         1180   \n",
       "1  6414100192  20141209T000000  538000         3       2.25         2570   \n",
       "2  5631500400  20150225T000000  180000         2       1.00          770   \n",
       "3  2487200875  20141209T000000  604000         4       3.00         1960   \n",
       "4  1954400510  20150218T000000  510000         3       2.00         1680   \n",
       "\n",
       "   sqft_lot  floors  waterfront  view  ...  grade  sqft_above  sqft_basement  \\\n",
       "0      5650     1.0           0     0  ...      7        1180              0   \n",
       "1      7242     2.0           0     0  ...      7        2170            400   \n",
       "2     10000     1.0           0     0  ...      6         770              0   \n",
       "3      5000     1.0           0     0  ...      7        1050            910   \n",
       "4      8080     1.0           0     0  ...      8        1680              0   \n",
       "\n",
       "   yr_built  yr_renovated  zipcode      lat     long  sqft_living15  \\\n",
       "0      1955             0    98178  47.5112 -122.257           1340   \n",
       "1      1951          1991    98125  47.7210 -122.319           1690   \n",
       "2      1933             0    98028  47.7379 -122.233           2720   \n",
       "3      1965             0    98136  47.5208 -122.393           1360   \n",
       "4      1987             0    98074  47.6168 -122.045           1800   \n",
       "\n",
       "   sqft_lot15  \n",
       "0        5650  \n",
       "1        7639  \n",
       "2        8062  \n",
       "3        5000  \n",
       "4        7503  \n",
       "\n",
       "[5 rows x 21 columns]"
      ]
     },
     "execution_count": 88,
     "metadata": {},
     "output_type": "execute_result"
    }
   ],
   "source": [
    "sales.head()"
   ]
  },
  {
   "cell_type": "markdown",
   "metadata": {
    "colab_type": "text",
    "id": "qbXfyeYYRS6o"
   },
   "source": [
    "# Exploring the data for housing sales "
   ]
  },
  {
   "cell_type": "markdown",
   "metadata": {
    "colab_type": "text",
    "id": "lkpUbIxaRS6o"
   },
   "source": [
    "The house price is correlated with the number of square feet of living space."
   ]
  },
  {
   "cell_type": "code",
   "execution_count": 89,
   "metadata": {
    "colab": {},
    "colab_type": "code",
    "id": "HoVlm0AFRS6p",
    "outputId": "0cb9d1d9-4cea-4ac1-9dfb-8a6d84187235",
    "scrolled": true
   },
   "outputs": [
    {
     "data": {
      "text/plain": [
       "<matplotlib.collections.PathCollection at 0x2431f7b8>"
      ]
     },
     "execution_count": 89,
     "metadata": {},
     "output_type": "execute_result"
    },
    {
     "data": {
      "image/png": "[encoded data removed]",
      "text/plain": [
       "<Figure size 432x288 with 1 Axes>"
      ]
     },
     "metadata": {
      "needs_background": "light"
     },
     "output_type": "display_data"
    }
   ],
   "source": [
    "import matplotlib.pyplot as plt\n",
    "%matplotlib inline\n",
    "plt.scatter(x=sales[\"sqft_living\"],y=sales[\"price\"])"
   ]
  },
  {
   "cell_type": "markdown",
   "metadata": {
    "colab_type": "text",
    "id": "qoHSt9uPRS6r"
   },
   "source": [
    "# Create a simple regression model of sqft_living to price"
   ]
  },
  {
   "cell_type": "markdown",
   "metadata": {
    "colab_type": "text",
    "id": "KIFKvVXBRS6s"
   },
   "source": [
    "Split data into training and testing.  \n",
    "We use seed=0 so that everyone running this notebook gets the same results.  In practice, you may set a random seed (or let GraphLab Create pick a random seed for you).  "
   ]
  },
  {
   "cell_type": "code",
   "execution_count": 90,
   "metadata": {
    "colab": {},
    "colab_type": "code",
    "id": "ME_g0T3dRS6s"
   },
   "outputs": [],
   "source": [
    "from sklearn.model_selection import train_test_split\n",
    "train_data,test_data = train_test_split(sales,train_size=0.8,test_size=0.2, random_state=0)\n",
    "\n",
    "#x,y: là dataframe sales"
   ]
  },
  {
   "cell_type": "markdown",
   "metadata": {
    "colab_type": "text",
    "id": "_f7yMTPiRS6u"
   },
   "source": [
    "## Build the regression model using only sqft_living as a feature"
   ]
  },
  {
   "cell_type": "code",
   "execution_count": 91,
   "metadata": {},
   "outputs": [
    {
     "data": {
      "text/html": [
       "<div>\n",
       "<style scoped>\n",
       "    .dataframe tbody tr th:only-of-type {\n",
       "        vertical-align: middle;\n",
       "    }\n",
       "\n",
       "    .dataframe tbody tr th {\n",
       "        vertical-align: top;\n",
       "    }\n",
       "\n",
       "    .dataframe thead th {\n",
       "        text-align: right;\n",
       "    }\n",
       "</style>\n",
       "<table border=\"1\" class=\"dataframe\">\n",
       "  <thead>\n",
       "    <tr style=\"text-align: right;\">\n",
       "      <th></th>\n",
       "      <th>id</th>\n",
       "      <th>date</th>\n",
       "      <th>price</th>\n",
       "      <th>bedrooms</th>\n",
       "      <th>bathrooms</th>\n",
       "      <th>sqft_living</th>\n",
       "      <th>sqft_lot</th>\n",
       "      <th>floors</th>\n",
       "      <th>waterfront</th>\n",
       "      <th>view</th>\n",
       "      <th>...</th>\n",
       "      <th>grade</th>\n",
       "      <th>sqft_above</th>\n",
       "      <th>sqft_basement</th>\n",
       "      <th>yr_built</th>\n",
       "      <th>yr_renovated</th>\n",
       "      <th>zipcode</th>\n",
       "      <th>lat</th>\n",
       "      <th>long</th>\n",
       "      <th>sqft_living15</th>\n",
       "      <th>sqft_lot15</th>\n",
       "    </tr>\n",
       "  </thead>\n",
       "  <tbody>\n",
       "    <tr>\n",
       "      <th>5268</th>\n",
       "      <td>5100402668</td>\n",
       "      <td>20150218T000000</td>\n",
       "      <td>495000</td>\n",
       "      <td>3</td>\n",
       "      <td>1.0</td>\n",
       "      <td>1570</td>\n",
       "      <td>5510</td>\n",
       "      <td>1.0</td>\n",
       "      <td>0</td>\n",
       "      <td>0</td>\n",
       "      <td>...</td>\n",
       "      <td>7</td>\n",
       "      <td>1070</td>\n",
       "      <td>500</td>\n",
       "      <td>1940</td>\n",
       "      <td>0</td>\n",
       "      <td>98115</td>\n",
       "      <td>47.6942</td>\n",
       "      <td>-122.319</td>\n",
       "      <td>1770</td>\n",
       "      <td>6380</td>\n",
       "    </tr>\n",
       "    <tr>\n",
       "      <th>16909</th>\n",
       "      <td>7856560480</td>\n",
       "      <td>20140808T000000</td>\n",
       "      <td>635000</td>\n",
       "      <td>3</td>\n",
       "      <td>2.5</td>\n",
       "      <td>1780</td>\n",
       "      <td>11000</td>\n",
       "      <td>1.0</td>\n",
       "      <td>0</td>\n",
       "      <td>0</td>\n",
       "      <td>...</td>\n",
       "      <td>8</td>\n",
       "      <td>1210</td>\n",
       "      <td>570</td>\n",
       "      <td>1980</td>\n",
       "      <td>0</td>\n",
       "      <td>98006</td>\n",
       "      <td>47.5574</td>\n",
       "      <td>-122.149</td>\n",
       "      <td>2310</td>\n",
       "      <td>9700</td>\n",
       "    </tr>\n",
       "  </tbody>\n",
       "</table>\n",
       "<p>2 rows × 21 columns</p>\n",
       "</div>"
      ],
      "text/plain": [
       "               id             date   price  bedrooms  bathrooms  sqft_living  \\\n",
       "5268   5100402668  20150218T000000  495000         3        1.0         1570   \n",
       "16909  7856560480  20140808T000000  635000         3        2.5         1780   \n",
       "\n",
       "       sqft_lot  floors  waterfront  view  ...  grade  sqft_above  \\\n",
       "5268       5510     1.0           0     0  ...      7        1070   \n",
       "16909     11000     1.0           0     0  ...      8        1210   \n",
       "\n",
       "       sqft_basement  yr_built  yr_renovated  zipcode      lat     long  \\\n",
       "5268             500      1940             0    98115  47.6942 -122.319   \n",
       "16909            570      1980             0    98006  47.5574 -122.149   \n",
       "\n",
       "       sqft_living15  sqft_lot15  \n",
       "5268            1770        6380  \n",
       "16909           2310        9700  \n",
       "\n",
       "[2 rows x 21 columns]"
      ]
     },
     "execution_count": 91,
     "metadata": {},
     "output_type": "execute_result"
    }
   ],
   "source": [
    "train_data.head(2)"
   ]
  },
  {
   "cell_type": "code",
   "execution_count": 127,
   "metadata": {},
   "outputs": [
    {
     "data": {
      "text/plain": [
       "5268     495000\n",
       "16909    635000\n",
       "16123    382500\n",
       "12181    382500\n",
       "12617    670000\n",
       "Name: price, dtype: int64"
      ]
     },
     "execution_count": 127,
     "metadata": {},
     "output_type": "execute_result"
    }
   ],
   "source": [
    "train_data['price'].head()"
   ]
  },
  {
   "cell_type": "code",
   "execution_count": 92,
   "metadata": {
    "colab": {},
    "colab_type": "code",
    "id": "MI3bASrJRS6v",
    "outputId": "a3f865be-bd39-4b2c-822c-1c1d8335921a"
   },
   "outputs": [
    {
     "data": {
      "text/plain": [
       "LinearRegression(copy_X=True, fit_intercept=True, n_jobs=None,\n",
       "         normalize=False)"
      ]
     },
     "execution_count": 92,
     "metadata": {},
     "output_type": "execute_result"
    }
   ],
   "source": [
    "from sklearn.linear_model import LinearRegression\n",
    "import numpy as np\n",
    "sqft_model = LinearRegression()\n",
    "sqft_model.fit(np.reshape(train_data[\"sqft_living\"].values, [-1, 1]),train_data[\"price\"])\n",
    "\n",
    "#x_train: sqft_living, y_train: price"
   ]
  },
  {
   "cell_type": "markdown",
   "metadata": {
    "colab_type": "text",
    "id": "t6_1sZJSRS6y"
   },
   "source": [
    "# Evaluate the simple model"
   ]
  },
  {
   "cell_type": "code",
   "execution_count": 93,
   "metadata": {
    "colab": {},
    "colab_type": "code",
    "id": "EavgtOp3RS6y",
    "outputId": "2b939ae5-31c5-49e4-9bc7-000bb7243ab8"
   },
   "outputs": [
    {
     "name": "stdout",
     "output_type": "stream",
     "text": [
      "529242.610687\n"
     ]
    }
   ],
   "source": [
    "print(test_data['price'].mean())"
   ]
  },
  {
   "cell_type": "markdown",
   "metadata": {},
   "source": [
    "#### Mean Square Error(MSE)"
   ]
  },
  {
   "cell_type": "code",
   "execution_count": 94,
   "metadata": {},
   "outputs": [
    {
     "name": "stdout",
     "output_type": "stream",
     "text": [
      "61940787221.49824\n"
     ]
    }
   ],
   "source": [
    "print(mean_squared_error(test_data['price'], sqft_model.predict(np.reshape(test_data[\"sqft_living\"].values, [-1, 1]))))"
   ]
  },
  {
   "cell_type": "markdown",
   "metadata": {},
   "source": [
    "#### Root Mean Square Error(RMSE)"
   ]
  },
  {
   "cell_type": "code",
   "execution_count": 130,
   "metadata": {
    "colab": {},
    "colab_type": "code",
    "id": "_6quMoplRS61",
    "outputId": "08a047e4-cfb1-4495-ddc2-a49d282d35ed"
   },
   "outputs": [
    {
     "name": "stdout",
     "output_type": "stream",
     "text": [
      "248879.06143647005\n"
     ]
    }
   ],
   "source": [
    "# Du bao price(y) dua vao x (test_data['sqft_living'])\n",
    "prediction = sqft_model.predict(np.reshape(test_data[\"sqft_living\"].values, [-1, 1]))\n",
    "labels = test_data['price']\n",
    "\n",
    "print(np.sqrt(sklearn.metrics.mean_squared_error(labels.values, prediction)))"
   ]
  },
  {
   "cell_type": "markdown",
   "metadata": {
    "colab_type": "text",
    "id": "wb9PdwuaRS63"
   },
   "source": [
    "RMSE of about \\$248,879\\$!"
   ]
  },
  {
   "cell_type": "code",
   "execution_count": 129,
   "metadata": {},
   "outputs": [
    {
     "data": {
      "text/plain": [
       "array([ 357817.97358056, 1277876.09945262,  360657.65915424, ...,\n",
       "        337940.17456481,  221513.06604396,  417451.37062783])"
      ]
     },
     "execution_count": 129,
     "metadata": {},
     "output_type": "execute_result"
    }
   ],
   "source": [
    "prediction"
   ]
  },
  {
   "cell_type": "markdown",
   "metadata": {
    "colab_type": "text",
    "id": "SFPjosLmRS64"
   },
   "source": [
    "# Let's show what our predictions look like"
   ]
  },
  {
   "cell_type": "markdown",
   "metadata": {
    "colab_type": "text",
    "id": "qcaDy-DURS64"
   },
   "source": [
    "Matplotlib is a Python plotting library that is also useful for plotting.  You can install it with:\n",
    "\n",
    "'pip install matplotlib'"
   ]
  },
  {
   "cell_type": "code",
   "execution_count": 96,
   "metadata": {
    "colab": {},
    "colab_type": "code",
    "id": "sB3rWLLDRS65"
   },
   "outputs": [],
   "source": [
    "import matplotlib.pyplot as plt\n",
    "%matplotlib inline"
   ]
  },
  {
   "cell_type": "code",
   "execution_count": 97,
   "metadata": {
    "colab": {},
    "colab_type": "code",
    "id": "skQMFvvNRS67",
    "outputId": "2531b62e-41b2-4c87-b6cb-536dba592b21"
   },
   "outputs": [
    {
     "data": {
      "text/plain": [
       "[<matplotlib.lines.Line2D at 0x240e5780>,\n",
       " <matplotlib.lines.Line2D at 0x240e5828>]"
      ]
     },
     "execution_count": 97,
     "metadata": {},
     "output_type": "execute_result"
    },
    {
     "data": {
      "image/png": "[encoded data removed]",
      "text/plain": [
       "<Figure size 432x288 with 1 Axes>"
      ]
     },
     "metadata": {
      "needs_background": "light"
     },
     "output_type": "display_data"
    }
   ],
   "source": [
    "plt.plot(test_data['sqft_living'],\n",
    "         test_data['price'],'.',\n",
    "         test_data['sqft_living'],\n",
    "         sqft_model.predict(np.reshape(test_data[\"sqft_living\"].values, [-1, 1])),\n",
    "         '-')"
   ]
  },
  {
   "cell_type": "markdown",
   "metadata": {
    "colab_type": "text",
    "id": "Sl0AKAdZRS6-"
   },
   "source": [
    "\n",
    "Above:  blue dots are original data, orange line is the prediction from the simple regression.\n",
    "\n",
    "Below: we can view the learned regression coefficients. "
   ]
  },
  {
   "cell_type": "code",
   "execution_count": 132,
   "metadata": {
    "colab": {},
    "colab_type": "code",
    "id": "xB4uG-WXRS6-",
    "outputId": "88c46a13-d328-4149-c008-86c38cdd7d61"
   },
   "outputs": [
    {
     "data": {
      "text/plain": [
       "array([283.96855737])"
      ]
     },
     "execution_count": 132,
     "metadata": {},
     "output_type": "execute_result"
    }
   ],
   "source": [
    "#Do chỉ có 01 biến x là sqft_living (X) chỉ có 01 coefficients\n",
    "sqft_model.coef_"
   ]
  },
  {
   "cell_type": "markdown",
   "metadata": {},
   "source": [
    "Below: we can view the learned regression intercept."
   ]
  },
  {
   "cell_type": "code",
   "execution_count": 99,
   "metadata": {},
   "outputs": [
    {
     "data": {
      "text/plain": [
       "-48257.06345556176"
      ]
     },
     "execution_count": 99,
     "metadata": {},
     "output_type": "execute_result"
    }
   ],
   "source": [
    "sqft_model.intercept_"
   ]
  },
  {
   "cell_type": "markdown",
   "metadata": {
    "colab_type": "text",
    "id": "JMoj7wwtRS7B"
   },
   "source": [
    "# Explore other features in the data\n",
    "\n",
    "To build a more elaborate model, we will explore using more features."
   ]
  },
  {
   "cell_type": "code",
   "execution_count": 100,
   "metadata": {
    "colab": {},
    "colab_type": "code",
    "id": "FE-BdGXaRS7B"
   },
   "outputs": [],
   "source": [
    "my_features = ['bedrooms', 'bathrooms', 'sqft_living', 'sqft_lot', 'floors', 'zipcode']"
   ]
  },
  {
   "cell_type": "markdown",
   "metadata": {},
   "source": [
    "#### To build a more elaborate model advance features"
   ]
  },
  {
   "cell_type": "code",
   "execution_count": 148,
   "metadata": {},
   "outputs": [],
   "source": [
    "advanced_features =  ['bedrooms', 'bathrooms', 'sqft_living', 'sqft_lot', 'floors', 'zipcode','condition','grade','waterfront','view','sqft_above','sqft_basement', 'yr_built', 'yr_renovated', 'lat', 'long', 'sqft_living15', 'sqft_lot15']"
   ]
  },
  {
   "cell_type": "code",
   "execution_count": 124,
   "metadata": {
    "colab": {},
    "colab_type": "code",
    "id": "cbgv4aF8RS7D",
    "outputId": "e54b5a4d-928f-4b60-a0e8-ebb9e2c7d13e"
   },
   "outputs": [
    {
     "data": {
      "text/html": [
       "<div>\n",
       "<style scoped>\n",
       "    .dataframe tbody tr th:only-of-type {\n",
       "        vertical-align: middle;\n",
       "    }\n",
       "\n",
       "    .dataframe tbody tr th {\n",
       "        vertical-align: top;\n",
       "    }\n",
       "\n",
       "    .dataframe thead th {\n",
       "        text-align: right;\n",
       "    }\n",
       "</style>\n",
       "<table border=\"1\" class=\"dataframe\">\n",
       "  <thead>\n",
       "    <tr style=\"text-align: right;\">\n",
       "      <th></th>\n",
       "      <th>bedrooms</th>\n",
       "      <th>bathrooms</th>\n",
       "      <th>sqft_living</th>\n",
       "      <th>sqft_lot</th>\n",
       "      <th>floors</th>\n",
       "      <th>zipcode</th>\n",
       "    </tr>\n",
       "  </thead>\n",
       "  <tbody>\n",
       "    <tr>\n",
       "      <th>0</th>\n",
       "      <td>3</td>\n",
       "      <td>1.00</td>\n",
       "      <td>1180</td>\n",
       "      <td>5650</td>\n",
       "      <td>1.0</td>\n",
       "      <td>98178</td>\n",
       "    </tr>\n",
       "    <tr>\n",
       "      <th>1</th>\n",
       "      <td>3</td>\n",
       "      <td>2.25</td>\n",
       "      <td>2570</td>\n",
       "      <td>7242</td>\n",
       "      <td>2.0</td>\n",
       "      <td>98125</td>\n",
       "    </tr>\n",
       "    <tr>\n",
       "      <th>2</th>\n",
       "      <td>2</td>\n",
       "      <td>1.00</td>\n",
       "      <td>770</td>\n",
       "      <td>10000</td>\n",
       "      <td>1.0</td>\n",
       "      <td>98028</td>\n",
       "    </tr>\n",
       "    <tr>\n",
       "      <th>3</th>\n",
       "      <td>4</td>\n",
       "      <td>3.00</td>\n",
       "      <td>1960</td>\n",
       "      <td>5000</td>\n",
       "      <td>1.0</td>\n",
       "      <td>98136</td>\n",
       "    </tr>\n",
       "    <tr>\n",
       "      <th>4</th>\n",
       "      <td>3</td>\n",
       "      <td>2.00</td>\n",
       "      <td>1680</td>\n",
       "      <td>8080</td>\n",
       "      <td>1.0</td>\n",
       "      <td>98074</td>\n",
       "    </tr>\n",
       "  </tbody>\n",
       "</table>\n",
       "</div>"
      ],
      "text/plain": [
       "   bedrooms  bathrooms  sqft_living  sqft_lot  floors  zipcode\n",
       "0         3       1.00         1180      5650     1.0    98178\n",
       "1         3       2.25         2570      7242     2.0    98125\n",
       "2         2       1.00          770     10000     1.0    98028\n",
       "3         4       3.00         1960      5000     1.0    98136\n",
       "4         3       2.00         1680      8080     1.0    98074"
      ]
     },
     "execution_count": 124,
     "metadata": {},
     "output_type": "execute_result"
    }
   ],
   "source": [
    "sales[my_features].head()"
   ]
  },
  {
   "cell_type": "code",
   "execution_count": 150,
   "metadata": {},
   "outputs": [
    {
     "data": {
      "text/html": [
       "<div>\n",
       "<style scoped>\n",
       "    .dataframe tbody tr th:only-of-type {\n",
       "        vertical-align: middle;\n",
       "    }\n",
       "\n",
       "    .dataframe tbody tr th {\n",
       "        vertical-align: top;\n",
       "    }\n",
       "\n",
       "    .dataframe thead th {\n",
       "        text-align: right;\n",
       "    }\n",
       "</style>\n",
       "<table border=\"1\" class=\"dataframe\">\n",
       "  <thead>\n",
       "    <tr style=\"text-align: right;\">\n",
       "      <th></th>\n",
       "      <th>bedrooms</th>\n",
       "      <th>bathrooms</th>\n",
       "      <th>sqft_living</th>\n",
       "      <th>sqft_lot</th>\n",
       "      <th>floors</th>\n",
       "      <th>zipcode</th>\n",
       "      <th>condition</th>\n",
       "      <th>grade</th>\n",
       "      <th>waterfront</th>\n",
       "      <th>view</th>\n",
       "      <th>sqft_above</th>\n",
       "      <th>sqft_basement</th>\n",
       "      <th>yr_built</th>\n",
       "      <th>yr_renovated</th>\n",
       "      <th>lat</th>\n",
       "      <th>long</th>\n",
       "      <th>sqft_living15</th>\n",
       "      <th>sqft_lot15</th>\n",
       "    </tr>\n",
       "  </thead>\n",
       "  <tbody>\n",
       "    <tr>\n",
       "      <th>0</th>\n",
       "      <td>3</td>\n",
       "      <td>1.00</td>\n",
       "      <td>1180</td>\n",
       "      <td>5650</td>\n",
       "      <td>1.0</td>\n",
       "      <td>98178</td>\n",
       "      <td>3</td>\n",
       "      <td>7</td>\n",
       "      <td>0</td>\n",
       "      <td>0</td>\n",
       "      <td>1180</td>\n",
       "      <td>0</td>\n",
       "      <td>1955</td>\n",
       "      <td>0</td>\n",
       "      <td>47.5112</td>\n",
       "      <td>-122.257</td>\n",
       "      <td>1340</td>\n",
       "      <td>5650</td>\n",
       "    </tr>\n",
       "    <tr>\n",
       "      <th>1</th>\n",
       "      <td>3</td>\n",
       "      <td>2.25</td>\n",
       "      <td>2570</td>\n",
       "      <td>7242</td>\n",
       "      <td>2.0</td>\n",
       "      <td>98125</td>\n",
       "      <td>3</td>\n",
       "      <td>7</td>\n",
       "      <td>0</td>\n",
       "      <td>0</td>\n",
       "      <td>2170</td>\n",
       "      <td>400</td>\n",
       "      <td>1951</td>\n",
       "      <td>1991</td>\n",
       "      <td>47.7210</td>\n",
       "      <td>-122.319</td>\n",
       "      <td>1690</td>\n",
       "      <td>7639</td>\n",
       "    </tr>\n",
       "    <tr>\n",
       "      <th>2</th>\n",
       "      <td>2</td>\n",
       "      <td>1.00</td>\n",
       "      <td>770</td>\n",
       "      <td>10000</td>\n",
       "      <td>1.0</td>\n",
       "      <td>98028</td>\n",
       "      <td>3</td>\n",
       "      <td>6</td>\n",
       "      <td>0</td>\n",
       "      <td>0</td>\n",
       "      <td>770</td>\n",
       "      <td>0</td>\n",
       "      <td>1933</td>\n",
       "      <td>0</td>\n",
       "      <td>47.7379</td>\n",
       "      <td>-122.233</td>\n",
       "      <td>2720</td>\n",
       "      <td>8062</td>\n",
       "    </tr>\n",
       "    <tr>\n",
       "      <th>3</th>\n",
       "      <td>4</td>\n",
       "      <td>3.00</td>\n",
       "      <td>1960</td>\n",
       "      <td>5000</td>\n",
       "      <td>1.0</td>\n",
       "      <td>98136</td>\n",
       "      <td>5</td>\n",
       "      <td>7</td>\n",
       "      <td>0</td>\n",
       "      <td>0</td>\n",
       "      <td>1050</td>\n",
       "      <td>910</td>\n",
       "      <td>1965</td>\n",
       "      <td>0</td>\n",
       "      <td>47.5208</td>\n",
       "      <td>-122.393</td>\n",
       "      <td>1360</td>\n",
       "      <td>5000</td>\n",
       "    </tr>\n",
       "    <tr>\n",
       "      <th>4</th>\n",
       "      <td>3</td>\n",
       "      <td>2.00</td>\n",
       "      <td>1680</td>\n",
       "      <td>8080</td>\n",
       "      <td>1.0</td>\n",
       "      <td>98074</td>\n",
       "      <td>3</td>\n",
       "      <td>8</td>\n",
       "      <td>0</td>\n",
       "      <td>0</td>\n",
       "      <td>1680</td>\n",
       "      <td>0</td>\n",
       "      <td>1987</td>\n",
       "      <td>0</td>\n",
       "      <td>47.6168</td>\n",
       "      <td>-122.045</td>\n",
       "      <td>1800</td>\n",
       "      <td>7503</td>\n",
       "    </tr>\n",
       "  </tbody>\n",
       "</table>\n",
       "</div>"
      ],
      "text/plain": [
       "   bedrooms  bathrooms  sqft_living  sqft_lot  floors  zipcode  condition  \\\n",
       "0         3       1.00         1180      5650     1.0    98178          3   \n",
       "1         3       2.25         2570      7242     2.0    98125          3   \n",
       "2         2       1.00          770     10000     1.0    98028          3   \n",
       "3         4       3.00         1960      5000     1.0    98136          5   \n",
       "4         3       2.00         1680      8080     1.0    98074          3   \n",
       "\n",
       "   grade  waterfront  view  sqft_above  sqft_basement  yr_built  yr_renovated  \\\n",
       "0      7           0     0        1180              0      1955             0   \n",
       "1      7           0     0        2170            400      1951          1991   \n",
       "2      6           0     0         770              0      1933             0   \n",
       "3      7           0     0        1050            910      1965             0   \n",
       "4      8           0     0        1680              0      1987             0   \n",
       "\n",
       "       lat     long  sqft_living15  sqft_lot15  \n",
       "0  47.5112 -122.257           1340        5650  \n",
       "1  47.7210 -122.319           1690        7639  \n",
       "2  47.7379 -122.233           2720        8062  \n",
       "3  47.5208 -122.393           1360        5000  \n",
       "4  47.6168 -122.045           1800        7503  "
      ]
     },
     "execution_count": 150,
     "metadata": {},
     "output_type": "execute_result"
    }
   ],
   "source": [
    "sales[advanced_features].head()"
   ]
  },
  {
   "cell_type": "markdown",
   "metadata": {},
   "source": [
    "#### Question 1. With zip code and the highest average home price we found. Choose the average house price of that zip code?(Selection and summary statistics)\n",
    "Đáp án nhìn vào biểu đồ boxplot có thể thấy với zip code = 98039 thì price cao nhất"
   ]
  },
  {
   "cell_type": "code",
   "execution_count": 102,
   "metadata": {
    "colab": {},
    "colab_type": "code",
    "id": "vCaPtjuIRS7G",
    "outputId": "36bc45ec-9e05-4b72-e4b5-b768e92f52a0"
   },
   "outputs": [
    {
     "data": {
      "image/png": "[encoded data removed]",
      "text/plain": [
       "<Figure size 1440x1080 with 1 Axes>"
      ]
     },
     "metadata": {
      "needs_background": "light"
     },
     "output_type": "display_data"
    }
   ],
   "source": [
    "#data = sales[[\"zipcode\",\"price\"]].values\n",
    "ax = sales.boxplot(column=\"price\", by=\"zipcode\", rot=45, figsize=(20, 15))"
   ]
  },
  {
   "cell_type": "markdown",
   "metadata": {
    "colab_type": "text",
    "id": "4si8eCmDRS7I"
   },
   "source": [
    "Pull the bar at the bottom to view more of the data.  \n",
    "\n",
    "98039 is the most expensive zip code."
   ]
  },
  {
   "cell_type": "markdown",
   "metadata": {
    "colab_type": "text",
    "id": "UJdFYuPERS7I"
   },
   "source": [
    "# Build a regression model with more features"
   ]
  },
  {
   "cell_type": "code",
   "execution_count": 152,
   "metadata": {
    "colab": {},
    "colab_type": "code",
    "id": "Gug_3n-mRS7J",
    "outputId": "0fe8a74d-4e66-4fda-aca3-65730b858dcb"
   },
   "outputs": [
    {
     "data": {
      "text/plain": [
       "LinearRegression(copy_X=True, fit_intercept=True, n_jobs=None,\n",
       "         normalize=False)"
      ]
     },
     "execution_count": 152,
     "metadata": {},
     "output_type": "execute_result"
    }
   ],
   "source": [
    "from sklearn.linear_model import LinearRegression\n",
    "import numpy as np\n",
    "my_features_model = LinearRegression()\n",
    "my_features_model.fit(train_data[my_features].values,train_data[\"price\"])"
   ]
  },
  {
   "cell_type": "markdown",
   "metadata": {},
   "source": [
    "#### Build a regression model with advance features"
   ]
  },
  {
   "cell_type": "code",
   "execution_count": 153,
   "metadata": {},
   "outputs": [
    {
     "data": {
      "text/plain": [
       "LinearRegression(copy_X=True, fit_intercept=True, n_jobs=None,\n",
       "         normalize=False)"
      ]
     },
     "execution_count": 153,
     "metadata": {},
     "output_type": "execute_result"
    }
   ],
   "source": [
    "from sklearn.linear_model import LinearRegression\n",
    "import numpy as np\n",
    "advanced_features_model = LinearRegression()\n",
    "advanced_features_model.fit(train_data[advanced_features].values,train_data[\"price\"])"
   ]
  },
  {
   "cell_type": "code",
   "execution_count": 104,
   "metadata": {
    "colab": {},
    "colab_type": "code",
    "id": "ukWoEiuBRS7M",
    "outputId": "bd3f3719-e601-495f-8e8b-4fc1200ab968"
   },
   "outputs": [
    {
     "name": "stdout",
     "output_type": "stream",
     "text": [
      "['bedrooms', 'bathrooms', 'sqft_living', 'sqft_lot', 'floors', 'zipcode']\n"
     ]
    }
   ],
   "source": [
    "print(my_features)"
   ]
  },
  {
   "cell_type": "code",
   "execution_count": 154,
   "metadata": {},
   "outputs": [
    {
     "name": "stdout",
     "output_type": "stream",
     "text": [
      "['bedrooms', 'bathrooms', 'sqft_living', 'sqft_lot', 'floors', 'zipcode', 'condition', 'grade', 'waterfront', 'view', 'sqft_above', 'sqft_basement', 'yr_built', 'yr_renovated', 'lat', 'long', 'sqft_living15', 'sqft_lot15']\n"
     ]
    }
   ],
   "source": [
    "print(advanced_features)"
   ]
  },
  {
   "cell_type": "code",
   "execution_count": 134,
   "metadata": {},
   "outputs": [
    {
     "data": {
      "text/plain": [
       "2"
      ]
     },
     "execution_count": 134,
     "metadata": {},
     "output_type": "execute_result"
    }
   ],
   "source": [
    "# Với mô hình linear regresstion phải tối thiếu có 2 dimentions trở lên\n",
    "test_data[my_features].ndim"
   ]
  },
  {
   "cell_type": "markdown",
   "metadata": {
    "colab_type": "text",
    "id": "CoaXdvibRS7O"
   },
   "source": [
    "## Comparing the results of the simple model with adding more features"
   ]
  },
  {
   "cell_type": "markdown",
   "metadata": {},
   "source": [
    "#### Root Mean Square Error(RMSE) for x = sqft_living"
   ]
  },
  {
   "cell_type": "code",
   "execution_count": 106,
   "metadata": {
    "colab": {},
    "colab_type": "code",
    "id": "sSZRni5nRS7O",
    "outputId": "0b21688e-2d7e-4d96-d018-6b0bfb634cf6"
   },
   "outputs": [
    {
     "name": "stdout",
     "output_type": "stream",
     "text": [
      "248879.06143647005\n"
     ]
    }
   ],
   "source": [
    "labels = test_data['price']\n",
    "\n",
    "prediction = sqft_model.predict(np.reshape(test_data[\"sqft_living\"].values, [-1, 1]))\n",
    "print(np.sqrt(sklearn.metrics.mean_squared_error(labels.values, prediction)))"
   ]
  },
  {
   "cell_type": "markdown",
   "metadata": {},
   "source": [
    "#### Root Mean Square Error(RMSE) for x1,x2,x2,x4,x5,x6 with my_features"
   ]
  },
  {
   "cell_type": "code",
   "execution_count": 107,
   "metadata": {},
   "outputs": [
    {
     "name": "stdout",
     "output_type": "stream",
     "text": [
      "244004.77443104092\n"
     ]
    }
   ],
   "source": [
    "prediction_features = my_features_model.predict(test_data[my_features].values)\n",
    "print(np.sqrt(sklearn.metrics.mean_squared_error(labels.values, prediction_features)))"
   ]
  },
  {
   "cell_type": "markdown",
   "metadata": {},
   "source": [
    "#### Root Mean Square Error(RMSE) for x1,x2,x2,x4,x5,x6 with advanced_features"
   ]
  },
  {
   "cell_type": "code",
   "execution_count": 156,
   "metadata": {},
   "outputs": [
    {
     "name": "stdout",
     "output_type": "stream",
     "text": [
      "190473.37570966638\n"
     ]
    }
   ],
   "source": [
    "prediction_advance = advanced_features_model.predict(test_data[advanced_features].values)\n",
    "print(np.sqrt(sklearn.metrics.mean_squared_error(labels.values, prediction_advance)))"
   ]
  },
  {
   "cell_type": "markdown",
   "metadata": {},
   "source": [
    "#### Question 3. Between the one trained with advanced_features and the model trained with my_features in RMSE. What is the difference? ?(Building a regression model with several more features)\n",
    "= 244004.77443104092 - 190473.37570966638 = 53531.398721374"
   ]
  },
  {
   "cell_type": "markdown",
   "metadata": {},
   "source": [
    "#### Mean Square Error(MSE)"
   ]
  },
  {
   "cell_type": "code",
   "execution_count": 135,
   "metadata": {},
   "outputs": [
    {
     "name": "stdout",
     "output_type": "stream",
     "text": [
      "59538329945.14316\n"
     ]
    }
   ],
   "source": [
    "print(sklearn.metrics.mean_squared_error(labels.values, prediction_features))"
   ]
  },
  {
   "cell_type": "markdown",
   "metadata": {},
   "source": [
    "we can view the learned regression coefficients. Chúng ta có thể thấy với mỗi features sẽ là một biến tương đương với, trong bài này là 6 tương đương với 'bedrooms', 'bathrooms', 'sqft_living', 'sqft_lot', 'floors', 'zipcode')"
   ]
  },
  {
   "cell_type": "code",
   "execution_count": 108,
   "metadata": {},
   "outputs": [
    {
     "data": {
      "text/plain": [
       "array([-5.66006330e+04,  1.10870936e+04,  3.20408369e+02, -2.89499140e-01,\n",
       "       -2.41800491e+03,  6.17971071e+02])"
      ]
     },
     "execution_count": 108,
     "metadata": {},
     "output_type": "execute_result"
    }
   ],
   "source": [
    "my_features_model.coef_"
   ]
  },
  {
   "cell_type": "markdown",
   "metadata": {},
   "source": [
    "we can view the learned regression intercept."
   ]
  },
  {
   "cell_type": "code",
   "execution_count": 109,
   "metadata": {},
   "outputs": [
    {
     "data": {
      "text/plain": [
       "-60558259.0181381"
      ]
     },
     "execution_count": 109,
     "metadata": {},
     "output_type": "execute_result"
    }
   ],
   "source": [
    "my_features_model.intercept_"
   ]
  },
  {
   "cell_type": "code",
   "execution_count": 110,
   "metadata": {},
   "outputs": [
    {
     "data": {
      "text/plain": [
       "[<matplotlib.lines.Line2D at 0x26890390>,\n",
       " <matplotlib.lines.Line2D at 0x268904e0>,\n",
       " <matplotlib.lines.Line2D at 0x268905f8>,\n",
       " <matplotlib.lines.Line2D at 0x268906a0>,\n",
       " <matplotlib.lines.Line2D at 0x26890748>,\n",
       " <matplotlib.lines.Line2D at 0x268907f0>,\n",
       " <matplotlib.lines.Line2D at 0x2679b9b0>,\n",
       " <matplotlib.lines.Line2D at 0x2679bb00>,\n",
       " <matplotlib.lines.Line2D at 0x2679bba8>,\n",
       " <matplotlib.lines.Line2D at 0x2679bc50>,\n",
       " <matplotlib.lines.Line2D at 0x2679bcf8>,\n",
       " <matplotlib.lines.Line2D at 0x2679bda0>]"
      ]
     },
     "execution_count": 110,
     "metadata": {},
     "output_type": "execute_result"
    },
    {
     "data": {
      "image/png": "[encoded data removed]",
      "text/plain": [
       "<Figure size 432x288 with 1 Axes>"
      ]
     },
     "metadata": {
      "needs_background": "light"
     },
     "output_type": "display_data"
    }
   ],
   "source": [
    "import matplotlib.pyplot as plt\n",
    "%matplotlib inline\n",
    "plt.plot(test_data[my_features],\n",
    "         test_data['price'],'.',\n",
    "         test_data[my_features],\n",
    "         my_features_model.predict(test_data[my_features]),\n",
    "         '-')"
   ]
  },
  {
   "cell_type": "markdown",
   "metadata": {
    "colab_type": "text",
    "id": "zjpSBbzRRS7Q"
   },
   "source": [
    "The RMSE goes down from \\$248.879\\$ to \\$244,004\\$ with more features."
   ]
  },
  {
   "cell_type": "markdown",
   "metadata": {
    "colab_type": "text",
    "id": "0pXlQJElRS7R"
   },
   "source": [
    "# Apply learned models to predict prices of 3 houses"
   ]
  },
  {
   "cell_type": "markdown",
   "metadata": {
    "colab_type": "text",
    "id": "DL4MzUJ2RS7R"
   },
   "source": [
    "The first house we will use is considered an \"average\" house in Seattle. "
   ]
  },
  {
   "cell_type": "code",
   "execution_count": 111,
   "metadata": {
    "colab": {},
    "colab_type": "code",
    "id": "F7s80U3ORS7S"
   },
   "outputs": [],
   "source": [
    "house1 = sales[sales['zipcode']==98039]"
   ]
  },
  {
   "cell_type": "code",
   "execution_count": 112,
   "metadata": {},
   "outputs": [],
   "source": [
    "sales1 = sales[(sales['sqft_living']>=2000) & (sales['sqft_living']<=4000)]"
   ]
  },
  {
   "cell_type": "code",
   "execution_count": 113,
   "metadata": {
    "colab": {},
    "colab_type": "code",
    "id": "N3TASC8aRS7U",
    "outputId": "b706b462-4e33-4710-fcb2-2f74eb8274c2",
    "scrolled": true
   },
   "outputs": [
    {
     "data": {
      "text/html": [
       "<div>\n",
       "<style scoped>\n",
       "    .dataframe tbody tr th:only-of-type {\n",
       "        vertical-align: middle;\n",
       "    }\n",
       "\n",
       "    .dataframe tbody tr th {\n",
       "        vertical-align: top;\n",
       "    }\n",
       "\n",
       "    .dataframe thead th {\n",
       "        text-align: right;\n",
       "    }\n",
       "</style>\n",
       "<table border=\"1\" class=\"dataframe\">\n",
       "  <thead>\n",
       "    <tr style=\"text-align: right;\">\n",
       "      <th></th>\n",
       "      <th>id</th>\n",
       "      <th>date</th>\n",
       "      <th>price</th>\n",
       "      <th>bedrooms</th>\n",
       "      <th>bathrooms</th>\n",
       "      <th>sqft_living</th>\n",
       "      <th>sqft_lot</th>\n",
       "      <th>floors</th>\n",
       "      <th>waterfront</th>\n",
       "      <th>view</th>\n",
       "      <th>...</th>\n",
       "      <th>grade</th>\n",
       "      <th>sqft_above</th>\n",
       "      <th>sqft_basement</th>\n",
       "      <th>yr_built</th>\n",
       "      <th>yr_renovated</th>\n",
       "      <th>zipcode</th>\n",
       "      <th>lat</th>\n",
       "      <th>long</th>\n",
       "      <th>sqft_living15</th>\n",
       "      <th>sqft_lot15</th>\n",
       "    </tr>\n",
       "  </thead>\n",
       "  <tbody>\n",
       "    <tr>\n",
       "      <th>2974</th>\n",
       "      <td>3625049014</td>\n",
       "      <td>20140829T000000</td>\n",
       "      <td>2950000</td>\n",
       "      <td>4</td>\n",
       "      <td>3.50</td>\n",
       "      <td>4860</td>\n",
       "      <td>23885</td>\n",
       "      <td>2.0</td>\n",
       "      <td>0</td>\n",
       "      <td>0</td>\n",
       "      <td>...</td>\n",
       "      <td>12</td>\n",
       "      <td>4860</td>\n",
       "      <td>0</td>\n",
       "      <td>1996</td>\n",
       "      <td>0</td>\n",
       "      <td>98039</td>\n",
       "      <td>47.6172</td>\n",
       "      <td>-122.230</td>\n",
       "      <td>3580</td>\n",
       "      <td>16054</td>\n",
       "    </tr>\n",
       "    <tr>\n",
       "      <th>3761</th>\n",
       "      <td>2540700110</td>\n",
       "      <td>20150212T000000</td>\n",
       "      <td>1905000</td>\n",
       "      <td>4</td>\n",
       "      <td>3.50</td>\n",
       "      <td>4210</td>\n",
       "      <td>18564</td>\n",
       "      <td>2.0</td>\n",
       "      <td>0</td>\n",
       "      <td>0</td>\n",
       "      <td>...</td>\n",
       "      <td>11</td>\n",
       "      <td>4210</td>\n",
       "      <td>0</td>\n",
       "      <td>2001</td>\n",
       "      <td>0</td>\n",
       "      <td>98039</td>\n",
       "      <td>47.6206</td>\n",
       "      <td>-122.225</td>\n",
       "      <td>3520</td>\n",
       "      <td>18564</td>\n",
       "    </tr>\n",
       "    <tr>\n",
       "      <th>4077</th>\n",
       "      <td>3262300940</td>\n",
       "      <td>20141107T000000</td>\n",
       "      <td>875000</td>\n",
       "      <td>3</td>\n",
       "      <td>1.00</td>\n",
       "      <td>1220</td>\n",
       "      <td>8119</td>\n",
       "      <td>1.0</td>\n",
       "      <td>0</td>\n",
       "      <td>0</td>\n",
       "      <td>...</td>\n",
       "      <td>7</td>\n",
       "      <td>1220</td>\n",
       "      <td>0</td>\n",
       "      <td>1955</td>\n",
       "      <td>0</td>\n",
       "      <td>98039</td>\n",
       "      <td>47.6328</td>\n",
       "      <td>-122.236</td>\n",
       "      <td>1910</td>\n",
       "      <td>8119</td>\n",
       "    </tr>\n",
       "    <tr>\n",
       "      <th>4078</th>\n",
       "      <td>3262300940</td>\n",
       "      <td>20150210T000000</td>\n",
       "      <td>940000</td>\n",
       "      <td>3</td>\n",
       "      <td>1.00</td>\n",
       "      <td>1220</td>\n",
       "      <td>8119</td>\n",
       "      <td>1.0</td>\n",
       "      <td>0</td>\n",
       "      <td>0</td>\n",
       "      <td>...</td>\n",
       "      <td>7</td>\n",
       "      <td>1220</td>\n",
       "      <td>0</td>\n",
       "      <td>1955</td>\n",
       "      <td>0</td>\n",
       "      <td>98039</td>\n",
       "      <td>47.6328</td>\n",
       "      <td>-122.236</td>\n",
       "      <td>1910</td>\n",
       "      <td>8119</td>\n",
       "    </tr>\n",
       "    <tr>\n",
       "      <th>4149</th>\n",
       "      <td>6447300265</td>\n",
       "      <td>20141014T000000</td>\n",
       "      <td>4000000</td>\n",
       "      <td>4</td>\n",
       "      <td>5.50</td>\n",
       "      <td>7080</td>\n",
       "      <td>16573</td>\n",
       "      <td>2.0</td>\n",
       "      <td>0</td>\n",
       "      <td>0</td>\n",
       "      <td>...</td>\n",
       "      <td>12</td>\n",
       "      <td>5760</td>\n",
       "      <td>1320</td>\n",
       "      <td>2008</td>\n",
       "      <td>0</td>\n",
       "      <td>98039</td>\n",
       "      <td>47.6151</td>\n",
       "      <td>-122.224</td>\n",
       "      <td>3140</td>\n",
       "      <td>15996</td>\n",
       "    </tr>\n",
       "    <tr>\n",
       "      <th>4411</th>\n",
       "      <td>2470100110</td>\n",
       "      <td>20140804T000000</td>\n",
       "      <td>5570000</td>\n",
       "      <td>5</td>\n",
       "      <td>5.75</td>\n",
       "      <td>9200</td>\n",
       "      <td>35069</td>\n",
       "      <td>2.0</td>\n",
       "      <td>0</td>\n",
       "      <td>0</td>\n",
       "      <td>...</td>\n",
       "      <td>13</td>\n",
       "      <td>6200</td>\n",
       "      <td>3000</td>\n",
       "      <td>2001</td>\n",
       "      <td>0</td>\n",
       "      <td>98039</td>\n",
       "      <td>47.6289</td>\n",
       "      <td>-122.233</td>\n",
       "      <td>3560</td>\n",
       "      <td>24345</td>\n",
       "    </tr>\n",
       "    <tr>\n",
       "      <th>4791</th>\n",
       "      <td>2210500019</td>\n",
       "      <td>20150324T000000</td>\n",
       "      <td>937500</td>\n",
       "      <td>3</td>\n",
       "      <td>1.00</td>\n",
       "      <td>1320</td>\n",
       "      <td>8500</td>\n",
       "      <td>1.0</td>\n",
       "      <td>0</td>\n",
       "      <td>0</td>\n",
       "      <td>...</td>\n",
       "      <td>7</td>\n",
       "      <td>1320</td>\n",
       "      <td>0</td>\n",
       "      <td>1954</td>\n",
       "      <td>0</td>\n",
       "      <td>98039</td>\n",
       "      <td>47.6187</td>\n",
       "      <td>-122.226</td>\n",
       "      <td>2790</td>\n",
       "      <td>10800</td>\n",
       "    </tr>\n",
       "    <tr>\n",
       "      <th>5178</th>\n",
       "      <td>6447300345</td>\n",
       "      <td>20150406T000000</td>\n",
       "      <td>1160000</td>\n",
       "      <td>4</td>\n",
       "      <td>3.00</td>\n",
       "      <td>2680</td>\n",
       "      <td>15438</td>\n",
       "      <td>2.0</td>\n",
       "      <td>0</td>\n",
       "      <td>2</td>\n",
       "      <td>...</td>\n",
       "      <td>8</td>\n",
       "      <td>2680</td>\n",
       "      <td>0</td>\n",
       "      <td>1902</td>\n",
       "      <td>1956</td>\n",
       "      <td>98039</td>\n",
       "      <td>47.6109</td>\n",
       "      <td>-122.226</td>\n",
       "      <td>4480</td>\n",
       "      <td>14406</td>\n",
       "    </tr>\n",
       "    <tr>\n",
       "      <th>5589</th>\n",
       "      <td>6447300225</td>\n",
       "      <td>20141106T000000</td>\n",
       "      <td>1880000</td>\n",
       "      <td>3</td>\n",
       "      <td>2.75</td>\n",
       "      <td>2620</td>\n",
       "      <td>17919</td>\n",
       "      <td>1.0</td>\n",
       "      <td>0</td>\n",
       "      <td>1</td>\n",
       "      <td>...</td>\n",
       "      <td>9</td>\n",
       "      <td>2620</td>\n",
       "      <td>0</td>\n",
       "      <td>1949</td>\n",
       "      <td>0</td>\n",
       "      <td>98039</td>\n",
       "      <td>47.6144</td>\n",
       "      <td>-122.228</td>\n",
       "      <td>3400</td>\n",
       "      <td>14400</td>\n",
       "    </tr>\n",
       "    <tr>\n",
       "      <th>5880</th>\n",
       "      <td>2525049148</td>\n",
       "      <td>20141007T000000</td>\n",
       "      <td>3418800</td>\n",
       "      <td>5</td>\n",
       "      <td>5.00</td>\n",
       "      <td>5450</td>\n",
       "      <td>20412</td>\n",
       "      <td>2.0</td>\n",
       "      <td>0</td>\n",
       "      <td>0</td>\n",
       "      <td>...</td>\n",
       "      <td>11</td>\n",
       "      <td>5450</td>\n",
       "      <td>0</td>\n",
       "      <td>2014</td>\n",
       "      <td>0</td>\n",
       "      <td>98039</td>\n",
       "      <td>47.6209</td>\n",
       "      <td>-122.237</td>\n",
       "      <td>3160</td>\n",
       "      <td>17825</td>\n",
       "    </tr>\n",
       "    <tr>\n",
       "      <th>6868</th>\n",
       "      <td>3262300235</td>\n",
       "      <td>20141126T000000</td>\n",
       "      <td>1555000</td>\n",
       "      <td>5</td>\n",
       "      <td>2.50</td>\n",
       "      <td>2870</td>\n",
       "      <td>16238</td>\n",
       "      <td>2.0</td>\n",
       "      <td>0</td>\n",
       "      <td>0</td>\n",
       "      <td>...</td>\n",
       "      <td>8</td>\n",
       "      <td>2870</td>\n",
       "      <td>0</td>\n",
       "      <td>1962</td>\n",
       "      <td>0</td>\n",
       "      <td>98039</td>\n",
       "      <td>47.6308</td>\n",
       "      <td>-122.238</td>\n",
       "      <td>2870</td>\n",
       "      <td>16238</td>\n",
       "    </tr>\n",
       "    <tr>\n",
       "      <th>7501</th>\n",
       "      <td>2525049133</td>\n",
       "      <td>20150402T000000</td>\n",
       "      <td>1398000</td>\n",
       "      <td>5</td>\n",
       "      <td>2.25</td>\n",
       "      <td>2640</td>\n",
       "      <td>14959</td>\n",
       "      <td>1.0</td>\n",
       "      <td>0</td>\n",
       "      <td>0</td>\n",
       "      <td>...</td>\n",
       "      <td>7</td>\n",
       "      <td>1770</td>\n",
       "      <td>870</td>\n",
       "      <td>1929</td>\n",
       "      <td>0</td>\n",
       "      <td>98039</td>\n",
       "      <td>47.6191</td>\n",
       "      <td>-122.234</td>\n",
       "      <td>3240</td>\n",
       "      <td>17904</td>\n",
       "    </tr>\n",
       "    <tr>\n",
       "      <th>8241</th>\n",
       "      <td>3262301355</td>\n",
       "      <td>20140725T000000</td>\n",
       "      <td>1320000</td>\n",
       "      <td>3</td>\n",
       "      <td>2.75</td>\n",
       "      <td>2680</td>\n",
       "      <td>20104</td>\n",
       "      <td>1.0</td>\n",
       "      <td>0</td>\n",
       "      <td>0</td>\n",
       "      <td>...</td>\n",
       "      <td>9</td>\n",
       "      <td>1820</td>\n",
       "      <td>860</td>\n",
       "      <td>1964</td>\n",
       "      <td>0</td>\n",
       "      <td>98039</td>\n",
       "      <td>47.6304</td>\n",
       "      <td>-122.234</td>\n",
       "      <td>3060</td>\n",
       "      <td>19837</td>\n",
       "    </tr>\n",
       "    <tr>\n",
       "      <th>9254</th>\n",
       "      <td>9208900037</td>\n",
       "      <td>20140919T000000</td>\n",
       "      <td>6885000</td>\n",
       "      <td>6</td>\n",
       "      <td>7.75</td>\n",
       "      <td>9890</td>\n",
       "      <td>31374</td>\n",
       "      <td>2.0</td>\n",
       "      <td>0</td>\n",
       "      <td>4</td>\n",
       "      <td>...</td>\n",
       "      <td>13</td>\n",
       "      <td>8860</td>\n",
       "      <td>1030</td>\n",
       "      <td>2001</td>\n",
       "      <td>0</td>\n",
       "      <td>98039</td>\n",
       "      <td>47.6305</td>\n",
       "      <td>-122.240</td>\n",
       "      <td>4540</td>\n",
       "      <td>42730</td>\n",
       "    </tr>\n",
       "    <tr>\n",
       "      <th>9694</th>\n",
       "      <td>3262301610</td>\n",
       "      <td>20141118T000000</td>\n",
       "      <td>865000</td>\n",
       "      <td>3</td>\n",
       "      <td>1.50</td>\n",
       "      <td>1530</td>\n",
       "      <td>10827</td>\n",
       "      <td>1.0</td>\n",
       "      <td>0</td>\n",
       "      <td>0</td>\n",
       "      <td>...</td>\n",
       "      <td>8</td>\n",
       "      <td>1530</td>\n",
       "      <td>0</td>\n",
       "      <td>1955</td>\n",
       "      <td>0</td>\n",
       "      <td>98039</td>\n",
       "      <td>47.6354</td>\n",
       "      <td>-122.234</td>\n",
       "      <td>2050</td>\n",
       "      <td>10827</td>\n",
       "    </tr>\n",
       "    <tr>\n",
       "      <th>9809</th>\n",
       "      <td>5426300060</td>\n",
       "      <td>20141008T000000</td>\n",
       "      <td>1000000</td>\n",
       "      <td>3</td>\n",
       "      <td>2.25</td>\n",
       "      <td>2300</td>\n",
       "      <td>15952</td>\n",
       "      <td>1.0</td>\n",
       "      <td>0</td>\n",
       "      <td>0</td>\n",
       "      <td>...</td>\n",
       "      <td>8</td>\n",
       "      <td>1150</td>\n",
       "      <td>1150</td>\n",
       "      <td>1963</td>\n",
       "      <td>0</td>\n",
       "      <td>98039</td>\n",
       "      <td>47.6322</td>\n",
       "      <td>-122.232</td>\n",
       "      <td>2200</td>\n",
       "      <td>14284</td>\n",
       "    </tr>\n",
       "    <tr>\n",
       "      <th>11278</th>\n",
       "      <td>3025300226</td>\n",
       "      <td>20140515T000000</td>\n",
       "      <td>2100000</td>\n",
       "      <td>4</td>\n",
       "      <td>1.75</td>\n",
       "      <td>3550</td>\n",
       "      <td>19865</td>\n",
       "      <td>2.0</td>\n",
       "      <td>0</td>\n",
       "      <td>0</td>\n",
       "      <td>...</td>\n",
       "      <td>9</td>\n",
       "      <td>3550</td>\n",
       "      <td>0</td>\n",
       "      <td>1962</td>\n",
       "      <td>2002</td>\n",
       "      <td>98039</td>\n",
       "      <td>47.6236</td>\n",
       "      <td>-122.235</td>\n",
       "      <td>3000</td>\n",
       "      <td>19862</td>\n",
       "    </tr>\n",
       "    <tr>\n",
       "      <th>11952</th>\n",
       "      <td>2260300060</td>\n",
       "      <td>20150410T000000</td>\n",
       "      <td>2575000</td>\n",
       "      <td>5</td>\n",
       "      <td>3.00</td>\n",
       "      <td>4780</td>\n",
       "      <td>20440</td>\n",
       "      <td>1.0</td>\n",
       "      <td>0</td>\n",
       "      <td>0</td>\n",
       "      <td>...</td>\n",
       "      <td>10</td>\n",
       "      <td>3660</td>\n",
       "      <td>1120</td>\n",
       "      <td>1975</td>\n",
       "      <td>0</td>\n",
       "      <td>98039</td>\n",
       "      <td>47.6242</td>\n",
       "      <td>-122.239</td>\n",
       "      <td>4660</td>\n",
       "      <td>20440</td>\n",
       "    </tr>\n",
       "    <tr>\n",
       "      <th>12295</th>\n",
       "      <td>3738000070</td>\n",
       "      <td>20150309T000000</td>\n",
       "      <td>1712750</td>\n",
       "      <td>5</td>\n",
       "      <td>2.50</td>\n",
       "      <td>2660</td>\n",
       "      <td>6572</td>\n",
       "      <td>1.0</td>\n",
       "      <td>0</td>\n",
       "      <td>0</td>\n",
       "      <td>...</td>\n",
       "      <td>9</td>\n",
       "      <td>1960</td>\n",
       "      <td>700</td>\n",
       "      <td>1959</td>\n",
       "      <td>0</td>\n",
       "      <td>98039</td>\n",
       "      <td>47.6176</td>\n",
       "      <td>-122.223</td>\n",
       "      <td>3960</td>\n",
       "      <td>14595</td>\n",
       "    </tr>\n",
       "    <tr>\n",
       "      <th>12811</th>\n",
       "      <td>5425700150</td>\n",
       "      <td>20140804T000000</td>\n",
       "      <td>787500</td>\n",
       "      <td>4</td>\n",
       "      <td>1.75</td>\n",
       "      <td>1580</td>\n",
       "      <td>9382</td>\n",
       "      <td>1.0</td>\n",
       "      <td>0</td>\n",
       "      <td>0</td>\n",
       "      <td>...</td>\n",
       "      <td>7</td>\n",
       "      <td>1080</td>\n",
       "      <td>500</td>\n",
       "      <td>1963</td>\n",
       "      <td>0</td>\n",
       "      <td>98039</td>\n",
       "      <td>47.6353</td>\n",
       "      <td>-122.232</td>\n",
       "      <td>2010</td>\n",
       "      <td>9382</td>\n",
       "    </tr>\n",
       "    <tr>\n",
       "      <th>13235</th>\n",
       "      <td>3262300322</td>\n",
       "      <td>20150408T000000</td>\n",
       "      <td>1651000</td>\n",
       "      <td>4</td>\n",
       "      <td>3.25</td>\n",
       "      <td>3640</td>\n",
       "      <td>13530</td>\n",
       "      <td>1.0</td>\n",
       "      <td>0</td>\n",
       "      <td>0</td>\n",
       "      <td>...</td>\n",
       "      <td>9</td>\n",
       "      <td>2570</td>\n",
       "      <td>1070</td>\n",
       "      <td>1924</td>\n",
       "      <td>2000</td>\n",
       "      <td>98039</td>\n",
       "      <td>47.6293</td>\n",
       "      <td>-122.238</td>\n",
       "      <td>2760</td>\n",
       "      <td>15000</td>\n",
       "    </tr>\n",
       "    <tr>\n",
       "      <th>13267</th>\n",
       "      <td>5425700205</td>\n",
       "      <td>20140520T000000</td>\n",
       "      <td>1800000</td>\n",
       "      <td>4</td>\n",
       "      <td>3.50</td>\n",
       "      <td>4460</td>\n",
       "      <td>16953</td>\n",
       "      <td>1.0</td>\n",
       "      <td>0</td>\n",
       "      <td>0</td>\n",
       "      <td>...</td>\n",
       "      <td>9</td>\n",
       "      <td>2550</td>\n",
       "      <td>1910</td>\n",
       "      <td>1962</td>\n",
       "      <td>1994</td>\n",
       "      <td>98039</td>\n",
       "      <td>47.6338</td>\n",
       "      <td>-122.232</td>\n",
       "      <td>1980</td>\n",
       "      <td>13370</td>\n",
       "    </tr>\n",
       "    <tr>\n",
       "      <th>13419</th>\n",
       "      <td>2525049246</td>\n",
       "      <td>20141017T000000</td>\n",
       "      <td>1550000</td>\n",
       "      <td>2</td>\n",
       "      <td>2.25</td>\n",
       "      <td>2950</td>\n",
       "      <td>15593</td>\n",
       "      <td>1.0</td>\n",
       "      <td>0</td>\n",
       "      <td>0</td>\n",
       "      <td>...</td>\n",
       "      <td>8</td>\n",
       "      <td>1560</td>\n",
       "      <td>1390</td>\n",
       "      <td>1942</td>\n",
       "      <td>1986</td>\n",
       "      <td>98039</td>\n",
       "      <td>47.6209</td>\n",
       "      <td>-122.236</td>\n",
       "      <td>2060</td>\n",
       "      <td>19855</td>\n",
       "    </tr>\n",
       "    <tr>\n",
       "      <th>13621</th>\n",
       "      <td>2525049266</td>\n",
       "      <td>20140821T000000</td>\n",
       "      <td>1762000</td>\n",
       "      <td>3</td>\n",
       "      <td>2.25</td>\n",
       "      <td>3060</td>\n",
       "      <td>16000</td>\n",
       "      <td>2.0</td>\n",
       "      <td>0</td>\n",
       "      <td>0</td>\n",
       "      <td>...</td>\n",
       "      <td>10</td>\n",
       "      <td>3060</td>\n",
       "      <td>0</td>\n",
       "      <td>1988</td>\n",
       "      <td>0</td>\n",
       "      <td>98039</td>\n",
       "      <td>47.6189</td>\n",
       "      <td>-122.230</td>\n",
       "      <td>3510</td>\n",
       "      <td>13162</td>\n",
       "    </tr>\n",
       "    <tr>\n",
       "      <th>13988</th>\n",
       "      <td>5427110040</td>\n",
       "      <td>20140609T000000</td>\n",
       "      <td>1225000</td>\n",
       "      <td>4</td>\n",
       "      <td>2.50</td>\n",
       "      <td>2740</td>\n",
       "      <td>16007</td>\n",
       "      <td>2.0</td>\n",
       "      <td>0</td>\n",
       "      <td>0</td>\n",
       "      <td>...</td>\n",
       "      <td>9</td>\n",
       "      <td>2740</td>\n",
       "      <td>0</td>\n",
       "      <td>1984</td>\n",
       "      <td>0</td>\n",
       "      <td>98039</td>\n",
       "      <td>47.6353</td>\n",
       "      <td>-122.229</td>\n",
       "      <td>2760</td>\n",
       "      <td>16008</td>\n",
       "    </tr>\n",
       "    <tr>\n",
       "      <th>14052</th>\n",
       "      <td>7397300220</td>\n",
       "      <td>20140529T000000</td>\n",
       "      <td>2750000</td>\n",
       "      <td>4</td>\n",
       "      <td>3.25</td>\n",
       "      <td>4430</td>\n",
       "      <td>21000</td>\n",
       "      <td>2.0</td>\n",
       "      <td>0</td>\n",
       "      <td>0</td>\n",
       "      <td>...</td>\n",
       "      <td>10</td>\n",
       "      <td>4430</td>\n",
       "      <td>0</td>\n",
       "      <td>1952</td>\n",
       "      <td>2007</td>\n",
       "      <td>98039</td>\n",
       "      <td>47.6398</td>\n",
       "      <td>-122.237</td>\n",
       "      <td>3930</td>\n",
       "      <td>20000</td>\n",
       "    </tr>\n",
       "    <tr>\n",
       "      <th>14254</th>\n",
       "      <td>2425049107</td>\n",
       "      <td>20150305T000000</td>\n",
       "      <td>1950000</td>\n",
       "      <td>4</td>\n",
       "      <td>3.75</td>\n",
       "      <td>4150</td>\n",
       "      <td>17424</td>\n",
       "      <td>1.0</td>\n",
       "      <td>0</td>\n",
       "      <td>0</td>\n",
       "      <td>...</td>\n",
       "      <td>9</td>\n",
       "      <td>3130</td>\n",
       "      <td>1020</td>\n",
       "      <td>1963</td>\n",
       "      <td>2000</td>\n",
       "      <td>98039</td>\n",
       "      <td>47.6390</td>\n",
       "      <td>-122.236</td>\n",
       "      <td>3930</td>\n",
       "      <td>21420</td>\n",
       "    </tr>\n",
       "    <tr>\n",
       "      <th>14385</th>\n",
       "      <td>2425049061</td>\n",
       "      <td>20140825T000000</td>\n",
       "      <td>2200000</td>\n",
       "      <td>3</td>\n",
       "      <td>2.00</td>\n",
       "      <td>3570</td>\n",
       "      <td>30456</td>\n",
       "      <td>1.0</td>\n",
       "      <td>0</td>\n",
       "      <td>1</td>\n",
       "      <td>...</td>\n",
       "      <td>8</td>\n",
       "      <td>2070</td>\n",
       "      <td>1500</td>\n",
       "      <td>1946</td>\n",
       "      <td>1982</td>\n",
       "      <td>98039</td>\n",
       "      <td>47.6413</td>\n",
       "      <td>-122.240</td>\n",
       "      <td>3570</td>\n",
       "      <td>27418</td>\n",
       "    </tr>\n",
       "    <tr>\n",
       "      <th>14803</th>\n",
       "      <td>3835502815</td>\n",
       "      <td>20140925T000000</td>\n",
       "      <td>1260000</td>\n",
       "      <td>3</td>\n",
       "      <td>2.50</td>\n",
       "      <td>3110</td>\n",
       "      <td>9930</td>\n",
       "      <td>1.0</td>\n",
       "      <td>0</td>\n",
       "      <td>1</td>\n",
       "      <td>...</td>\n",
       "      <td>8</td>\n",
       "      <td>1640</td>\n",
       "      <td>1470</td>\n",
       "      <td>1954</td>\n",
       "      <td>0</td>\n",
       "      <td>98039</td>\n",
       "      <td>47.6112</td>\n",
       "      <td>-122.226</td>\n",
       "      <td>3650</td>\n",
       "      <td>14399</td>\n",
       "    </tr>\n",
       "    <tr>\n",
       "      <th>15022</th>\n",
       "      <td>2210500010</td>\n",
       "      <td>20140930T000000</td>\n",
       "      <td>2450000</td>\n",
       "      <td>7</td>\n",
       "      <td>4.25</td>\n",
       "      <td>4670</td>\n",
       "      <td>23115</td>\n",
       "      <td>2.0</td>\n",
       "      <td>0</td>\n",
       "      <td>2</td>\n",
       "      <td>...</td>\n",
       "      <td>11</td>\n",
       "      <td>4670</td>\n",
       "      <td>0</td>\n",
       "      <td>1992</td>\n",
       "      <td>0</td>\n",
       "      <td>98039</td>\n",
       "      <td>47.6183</td>\n",
       "      <td>-122.227</td>\n",
       "      <td>3240</td>\n",
       "      <td>13912</td>\n",
       "    </tr>\n",
       "    <tr>\n",
       "      <th>15255</th>\n",
       "      <td>2425049063</td>\n",
       "      <td>20140911T000000</td>\n",
       "      <td>3640900</td>\n",
       "      <td>4</td>\n",
       "      <td>3.25</td>\n",
       "      <td>4830</td>\n",
       "      <td>22257</td>\n",
       "      <td>2.0</td>\n",
       "      <td>1</td>\n",
       "      <td>4</td>\n",
       "      <td>...</td>\n",
       "      <td>11</td>\n",
       "      <td>4830</td>\n",
       "      <td>0</td>\n",
       "      <td>1990</td>\n",
       "      <td>0</td>\n",
       "      <td>98039</td>\n",
       "      <td>47.6409</td>\n",
       "      <td>-122.241</td>\n",
       "      <td>3820</td>\n",
       "      <td>25582</td>\n",
       "    </tr>\n",
       "    <tr>\n",
       "      <th>15632</th>\n",
       "      <td>3625049088</td>\n",
       "      <td>20140702T000000</td>\n",
       "      <td>2271150</td>\n",
       "      <td>4</td>\n",
       "      <td>3.25</td>\n",
       "      <td>4040</td>\n",
       "      <td>18916</td>\n",
       "      <td>1.0</td>\n",
       "      <td>0</td>\n",
       "      <td>0</td>\n",
       "      <td>...</td>\n",
       "      <td>9</td>\n",
       "      <td>4040</td>\n",
       "      <td>0</td>\n",
       "      <td>1954</td>\n",
       "      <td>0</td>\n",
       "      <td>98039</td>\n",
       "      <td>47.6155</td>\n",
       "      <td>-122.238</td>\n",
       "      <td>3000</td>\n",
       "      <td>18831</td>\n",
       "    </tr>\n",
       "    <tr>\n",
       "      <th>16268</th>\n",
       "      <td>3025300250</td>\n",
       "      <td>20150513T000000</td>\n",
       "      <td>1620000</td>\n",
       "      <td>4</td>\n",
       "      <td>2.25</td>\n",
       "      <td>2350</td>\n",
       "      <td>17709</td>\n",
       "      <td>2.0</td>\n",
       "      <td>0</td>\n",
       "      <td>0</td>\n",
       "      <td>...</td>\n",
       "      <td>9</td>\n",
       "      <td>2350</td>\n",
       "      <td>0</td>\n",
       "      <td>1977</td>\n",
       "      <td>0</td>\n",
       "      <td>98039</td>\n",
       "      <td>47.6232</td>\n",
       "      <td>-122.236</td>\n",
       "      <td>3360</td>\n",
       "      <td>19855</td>\n",
       "    </tr>\n",
       "    <tr>\n",
       "      <th>16302</th>\n",
       "      <td>7397300170</td>\n",
       "      <td>20140530T000000</td>\n",
       "      <td>3710000</td>\n",
       "      <td>4</td>\n",
       "      <td>3.50</td>\n",
       "      <td>5550</td>\n",
       "      <td>28078</td>\n",
       "      <td>2.0</td>\n",
       "      <td>0</td>\n",
       "      <td>2</td>\n",
       "      <td>...</td>\n",
       "      <td>12</td>\n",
       "      <td>3350</td>\n",
       "      <td>2200</td>\n",
       "      <td>2000</td>\n",
       "      <td>0</td>\n",
       "      <td>98039</td>\n",
       "      <td>47.6395</td>\n",
       "      <td>-122.234</td>\n",
       "      <td>2980</td>\n",
       "      <td>19602</td>\n",
       "    </tr>\n",
       "    <tr>\n",
       "      <th>16377</th>\n",
       "      <td>3262300920</td>\n",
       "      <td>20150408T000000</td>\n",
       "      <td>1200000</td>\n",
       "      <td>4</td>\n",
       "      <td>3.00</td>\n",
       "      <td>2150</td>\n",
       "      <td>8119</td>\n",
       "      <td>2.0</td>\n",
       "      <td>0</td>\n",
       "      <td>0</td>\n",
       "      <td>...</td>\n",
       "      <td>8</td>\n",
       "      <td>2150</td>\n",
       "      <td>0</td>\n",
       "      <td>1953</td>\n",
       "      <td>2004</td>\n",
       "      <td>98039</td>\n",
       "      <td>47.6335</td>\n",
       "      <td>-122.236</td>\n",
       "      <td>1590</td>\n",
       "      <td>8119</td>\n",
       "    </tr>\n",
       "    <tr>\n",
       "      <th>16825</th>\n",
       "      <td>3025300095</td>\n",
       "      <td>20141009T000000</td>\n",
       "      <td>2500000</td>\n",
       "      <td>4</td>\n",
       "      <td>4.50</td>\n",
       "      <td>4300</td>\n",
       "      <td>19844</td>\n",
       "      <td>2.0</td>\n",
       "      <td>0</td>\n",
       "      <td>0</td>\n",
       "      <td>...</td>\n",
       "      <td>11</td>\n",
       "      <td>4300</td>\n",
       "      <td>0</td>\n",
       "      <td>1985</td>\n",
       "      <td>1999</td>\n",
       "      <td>98039</td>\n",
       "      <td>47.6218</td>\n",
       "      <td>-122.237</td>\n",
       "      <td>3070</td>\n",
       "      <td>19845</td>\n",
       "    </tr>\n",
       "    <tr>\n",
       "      <th>17001</th>\n",
       "      <td>2525049259</td>\n",
       "      <td>20140812T000000</td>\n",
       "      <td>2187730</td>\n",
       "      <td>4</td>\n",
       "      <td>4.50</td>\n",
       "      <td>4240</td>\n",
       "      <td>13162</td>\n",
       "      <td>2.0</td>\n",
       "      <td>0</td>\n",
       "      <td>0</td>\n",
       "      <td>...</td>\n",
       "      <td>10</td>\n",
       "      <td>4240</td>\n",
       "      <td>0</td>\n",
       "      <td>2004</td>\n",
       "      <td>0</td>\n",
       "      <td>98039</td>\n",
       "      <td>47.6193</td>\n",
       "      <td>-122.229</td>\n",
       "      <td>3010</td>\n",
       "      <td>12163</td>\n",
       "    </tr>\n",
       "    <tr>\n",
       "      <th>17209</th>\n",
       "      <td>3025300225</td>\n",
       "      <td>20141031T000000</td>\n",
       "      <td>1450000</td>\n",
       "      <td>5</td>\n",
       "      <td>2.75</td>\n",
       "      <td>3090</td>\n",
       "      <td>19865</td>\n",
       "      <td>1.0</td>\n",
       "      <td>0</td>\n",
       "      <td>0</td>\n",
       "      <td>...</td>\n",
       "      <td>9</td>\n",
       "      <td>3090</td>\n",
       "      <td>0</td>\n",
       "      <td>1953</td>\n",
       "      <td>0</td>\n",
       "      <td>98039</td>\n",
       "      <td>47.6232</td>\n",
       "      <td>-122.235</td>\n",
       "      <td>2970</td>\n",
       "      <td>19862</td>\n",
       "    </tr>\n",
       "    <tr>\n",
       "      <th>17230</th>\n",
       "      <td>2470200020</td>\n",
       "      <td>20140514T000000</td>\n",
       "      <td>1880000</td>\n",
       "      <td>4</td>\n",
       "      <td>2.75</td>\n",
       "      <td>3260</td>\n",
       "      <td>19542</td>\n",
       "      <td>1.0</td>\n",
       "      <td>0</td>\n",
       "      <td>0</td>\n",
       "      <td>...</td>\n",
       "      <td>10</td>\n",
       "      <td>2170</td>\n",
       "      <td>1090</td>\n",
       "      <td>1968</td>\n",
       "      <td>0</td>\n",
       "      <td>98039</td>\n",
       "      <td>47.6245</td>\n",
       "      <td>-122.236</td>\n",
       "      <td>3480</td>\n",
       "      <td>19863</td>\n",
       "    </tr>\n",
       "    <tr>\n",
       "      <th>17899</th>\n",
       "      <td>3262300555</td>\n",
       "      <td>20140708T000000</td>\n",
       "      <td>2458000</td>\n",
       "      <td>4</td>\n",
       "      <td>5.25</td>\n",
       "      <td>6500</td>\n",
       "      <td>14986</td>\n",
       "      <td>2.0</td>\n",
       "      <td>0</td>\n",
       "      <td>0</td>\n",
       "      <td>...</td>\n",
       "      <td>11</td>\n",
       "      <td>5180</td>\n",
       "      <td>1320</td>\n",
       "      <td>2001</td>\n",
       "      <td>0</td>\n",
       "      <td>98039</td>\n",
       "      <td>47.6304</td>\n",
       "      <td>-122.236</td>\n",
       "      <td>2270</td>\n",
       "      <td>8119</td>\n",
       "    </tr>\n",
       "    <tr>\n",
       "      <th>17930</th>\n",
       "      <td>3625049079</td>\n",
       "      <td>20140801T000000</td>\n",
       "      <td>1350000</td>\n",
       "      <td>3</td>\n",
       "      <td>2.00</td>\n",
       "      <td>2070</td>\n",
       "      <td>9600</td>\n",
       "      <td>1.0</td>\n",
       "      <td>0</td>\n",
       "      <td>1</td>\n",
       "      <td>...</td>\n",
       "      <td>7</td>\n",
       "      <td>1590</td>\n",
       "      <td>480</td>\n",
       "      <td>1946</td>\n",
       "      <td>0</td>\n",
       "      <td>98039</td>\n",
       "      <td>47.6160</td>\n",
       "      <td>-122.239</td>\n",
       "      <td>3000</td>\n",
       "      <td>16215</td>\n",
       "    </tr>\n",
       "    <tr>\n",
       "      <th>18793</th>\n",
       "      <td>2525049263</td>\n",
       "      <td>20140709T000000</td>\n",
       "      <td>2680000</td>\n",
       "      <td>5</td>\n",
       "      <td>3.00</td>\n",
       "      <td>4290</td>\n",
       "      <td>20445</td>\n",
       "      <td>2.0</td>\n",
       "      <td>0</td>\n",
       "      <td>0</td>\n",
       "      <td>...</td>\n",
       "      <td>11</td>\n",
       "      <td>4290</td>\n",
       "      <td>0</td>\n",
       "      <td>1985</td>\n",
       "      <td>0</td>\n",
       "      <td>98039</td>\n",
       "      <td>47.6217</td>\n",
       "      <td>-122.239</td>\n",
       "      <td>3620</td>\n",
       "      <td>22325</td>\n",
       "    </tr>\n",
       "    <tr>\n",
       "      <th>18892</th>\n",
       "      <td>5427100150</td>\n",
       "      <td>20140626T000000</td>\n",
       "      <td>1410000</td>\n",
       "      <td>4</td>\n",
       "      <td>2.25</td>\n",
       "      <td>3250</td>\n",
       "      <td>16684</td>\n",
       "      <td>2.0</td>\n",
       "      <td>0</td>\n",
       "      <td>0</td>\n",
       "      <td>...</td>\n",
       "      <td>9</td>\n",
       "      <td>3250</td>\n",
       "      <td>0</td>\n",
       "      <td>1979</td>\n",
       "      <td>0</td>\n",
       "      <td>98039</td>\n",
       "      <td>47.6334</td>\n",
       "      <td>-122.229</td>\n",
       "      <td>2890</td>\n",
       "      <td>16927</td>\n",
       "    </tr>\n",
       "    <tr>\n",
       "      <th>18912</th>\n",
       "      <td>2425049066</td>\n",
       "      <td>20140616T000000</td>\n",
       "      <td>1920000</td>\n",
       "      <td>4</td>\n",
       "      <td>2.50</td>\n",
       "      <td>3070</td>\n",
       "      <td>34412</td>\n",
       "      <td>1.0</td>\n",
       "      <td>0</td>\n",
       "      <td>3</td>\n",
       "      <td>...</td>\n",
       "      <td>9</td>\n",
       "      <td>2070</td>\n",
       "      <td>1000</td>\n",
       "      <td>1950</td>\n",
       "      <td>0</td>\n",
       "      <td>98039</td>\n",
       "      <td>47.6400</td>\n",
       "      <td>-122.240</td>\n",
       "      <td>3780</td>\n",
       "      <td>27940</td>\n",
       "    </tr>\n",
       "    <tr>\n",
       "      <th>19148</th>\n",
       "      <td>3625049042</td>\n",
       "      <td>20141011T000000</td>\n",
       "      <td>3635000</td>\n",
       "      <td>5</td>\n",
       "      <td>6.00</td>\n",
       "      <td>5490</td>\n",
       "      <td>19897</td>\n",
       "      <td>2.0</td>\n",
       "      <td>0</td>\n",
       "      <td>0</td>\n",
       "      <td>...</td>\n",
       "      <td>12</td>\n",
       "      <td>5490</td>\n",
       "      <td>0</td>\n",
       "      <td>2005</td>\n",
       "      <td>0</td>\n",
       "      <td>98039</td>\n",
       "      <td>47.6165</td>\n",
       "      <td>-122.236</td>\n",
       "      <td>2910</td>\n",
       "      <td>17600</td>\n",
       "    </tr>\n",
       "    <tr>\n",
       "      <th>19236</th>\n",
       "      <td>2525049086</td>\n",
       "      <td>20141003T000000</td>\n",
       "      <td>2720000</td>\n",
       "      <td>4</td>\n",
       "      <td>3.25</td>\n",
       "      <td>3990</td>\n",
       "      <td>18115</td>\n",
       "      <td>2.0</td>\n",
       "      <td>0</td>\n",
       "      <td>0</td>\n",
       "      <td>...</td>\n",
       "      <td>11</td>\n",
       "      <td>3990</td>\n",
       "      <td>0</td>\n",
       "      <td>1989</td>\n",
       "      <td>0</td>\n",
       "      <td>98039</td>\n",
       "      <td>47.6177</td>\n",
       "      <td>-122.229</td>\n",
       "      <td>3450</td>\n",
       "      <td>16087</td>\n",
       "    </tr>\n",
       "    <tr>\n",
       "      <th>19351</th>\n",
       "      <td>2525049113</td>\n",
       "      <td>20140725T000000</td>\n",
       "      <td>1950000</td>\n",
       "      <td>4</td>\n",
       "      <td>3.50</td>\n",
       "      <td>4065</td>\n",
       "      <td>18713</td>\n",
       "      <td>2.0</td>\n",
       "      <td>0</td>\n",
       "      <td>0</td>\n",
       "      <td>...</td>\n",
       "      <td>10</td>\n",
       "      <td>4065</td>\n",
       "      <td>0</td>\n",
       "      <td>1987</td>\n",
       "      <td>0</td>\n",
       "      <td>98039</td>\n",
       "      <td>47.6209</td>\n",
       "      <td>-122.237</td>\n",
       "      <td>3070</td>\n",
       "      <td>18713</td>\n",
       "    </tr>\n",
       "    <tr>\n",
       "      <th>20096</th>\n",
       "      <td>3262300485</td>\n",
       "      <td>20150421T000000</td>\n",
       "      <td>2250000</td>\n",
       "      <td>5</td>\n",
       "      <td>5.25</td>\n",
       "      <td>3410</td>\n",
       "      <td>8118</td>\n",
       "      <td>2.0</td>\n",
       "      <td>0</td>\n",
       "      <td>0</td>\n",
       "      <td>...</td>\n",
       "      <td>11</td>\n",
       "      <td>3410</td>\n",
       "      <td>0</td>\n",
       "      <td>2006</td>\n",
       "      <td>0</td>\n",
       "      <td>98039</td>\n",
       "      <td>47.6295</td>\n",
       "      <td>-122.236</td>\n",
       "      <td>3410</td>\n",
       "      <td>16236</td>\n",
       "    </tr>\n",
       "    <tr>\n",
       "      <th>21040</th>\n",
       "      <td>6447300365</td>\n",
       "      <td>20141113T000000</td>\n",
       "      <td>2900000</td>\n",
       "      <td>5</td>\n",
       "      <td>4.00</td>\n",
       "      <td>5190</td>\n",
       "      <td>14600</td>\n",
       "      <td>2.0</td>\n",
       "      <td>0</td>\n",
       "      <td>1</td>\n",
       "      <td>...</td>\n",
       "      <td>11</td>\n",
       "      <td>5190</td>\n",
       "      <td>0</td>\n",
       "      <td>2013</td>\n",
       "      <td>0</td>\n",
       "      <td>98039</td>\n",
       "      <td>47.6102</td>\n",
       "      <td>-122.225</td>\n",
       "      <td>3840</td>\n",
       "      <td>19250</td>\n",
       "    </tr>\n",
       "    <tr>\n",
       "      <th>21514</th>\n",
       "      <td>3262300818</td>\n",
       "      <td>20150227T000000</td>\n",
       "      <td>1865000</td>\n",
       "      <td>4</td>\n",
       "      <td>3.75</td>\n",
       "      <td>3790</td>\n",
       "      <td>8797</td>\n",
       "      <td>2.0</td>\n",
       "      <td>0</td>\n",
       "      <td>0</td>\n",
       "      <td>...</td>\n",
       "      <td>11</td>\n",
       "      <td>3290</td>\n",
       "      <td>500</td>\n",
       "      <td>2006</td>\n",
       "      <td>0</td>\n",
       "      <td>98039</td>\n",
       "      <td>47.6351</td>\n",
       "      <td>-122.236</td>\n",
       "      <td>2660</td>\n",
       "      <td>12150</td>\n",
       "    </tr>\n",
       "  </tbody>\n",
       "</table>\n",
       "<p>50 rows × 21 columns</p>\n",
       "</div>"
      ],
      "text/plain": [
       "               id             date    price  bedrooms  bathrooms  sqft_living  \\\n",
       "2974   3625049014  20140829T000000  2950000         4       3.50         4860   \n",
       "3761   2540700110  20150212T000000  1905000         4       3.50         4210   \n",
       "4077   3262300940  20141107T000000   875000         3       1.00         1220   \n",
       "4078   3262300940  20150210T000000   940000         3       1.00         1220   \n",
       "4149   6447300265  20141014T000000  4000000         4       5.50         7080   \n",
       "4411   2470100110  20140804T000000  5570000         5       5.75         9200   \n",
       "4791   2210500019  20150324T000000   937500         3       1.00         1320   \n",
       "5178   6447300345  20150406T000000  1160000         4       3.00         2680   \n",
       "5589   6447300225  20141106T000000  1880000         3       2.75         2620   \n",
       "5880   2525049148  20141007T000000  3418800         5       5.00         5450   \n",
       "6868   3262300235  20141126T000000  1555000         5       2.50         2870   \n",
       "7501   2525049133  20150402T000000  1398000         5       2.25         2640   \n",
       "8241   3262301355  20140725T000000  1320000         3       2.75         2680   \n",
       "9254   9208900037  20140919T000000  6885000         6       7.75         9890   \n",
       "9694   3262301610  20141118T000000   865000         3       1.50         1530   \n",
       "9809   5426300060  20141008T000000  1000000         3       2.25         2300   \n",
       "11278  3025300226  20140515T000000  2100000         4       1.75         3550   \n",
       "11952  2260300060  20150410T000000  2575000         5       3.00         4780   \n",
       "12295  3738000070  20150309T000000  1712750         5       2.50         2660   \n",
       "12811  5425700150  20140804T000000   787500         4       1.75         1580   \n",
       "13235  3262300322  20150408T000000  1651000         4       3.25         3640   \n",
       "13267  5425700205  20140520T000000  1800000         4       3.50         4460   \n",
       "13419  2525049246  20141017T000000  1550000         2       2.25         2950   \n",
       "13621  2525049266  20140821T000000  1762000         3       2.25         3060   \n",
       "13988  5427110040  20140609T000000  1225000         4       2.50         2740   \n",
       "14052  7397300220  20140529T000000  2750000         4       3.25         4430   \n",
       "14254  2425049107  20150305T000000  1950000         4       3.75         4150   \n",
       "14385  2425049061  20140825T000000  2200000         3       2.00         3570   \n",
       "14803  3835502815  20140925T000000  1260000         3       2.50         3110   \n",
       "15022  2210500010  20140930T000000  2450000         7       4.25         4670   \n",
       "15255  2425049063  20140911T000000  3640900         4       3.25         4830   \n",
       "15632  3625049088  20140702T000000  2271150         4       3.25         4040   \n",
       "16268  3025300250  20150513T000000  1620000         4       2.25         2350   \n",
       "16302  7397300170  20140530T000000  3710000         4       3.50         5550   \n",
       "16377  3262300920  20150408T000000  1200000         4       3.00         2150   \n",
       "16825  3025300095  20141009T000000  2500000         4       4.50         4300   \n",
       "17001  2525049259  20140812T000000  2187730         4       4.50         4240   \n",
       "17209  3025300225  20141031T000000  1450000         5       2.75         3090   \n",
       "17230  2470200020  20140514T000000  1880000         4       2.75         3260   \n",
       "17899  3262300555  20140708T000000  2458000         4       5.25         6500   \n",
       "17930  3625049079  20140801T000000  1350000         3       2.00         2070   \n",
       "18793  2525049263  20140709T000000  2680000         5       3.00         4290   \n",
       "18892  5427100150  20140626T000000  1410000         4       2.25         3250   \n",
       "18912  2425049066  20140616T000000  1920000         4       2.50         3070   \n",
       "19148  3625049042  20141011T000000  3635000         5       6.00         5490   \n",
       "19236  2525049086  20141003T000000  2720000         4       3.25         3990   \n",
       "19351  2525049113  20140725T000000  1950000         4       3.50         4065   \n",
       "20096  3262300485  20150421T000000  2250000         5       5.25         3410   \n",
       "21040  6447300365  20141113T000000  2900000         5       4.00         5190   \n",
       "21514  3262300818  20150227T000000  1865000         4       3.75         3790   \n",
       "\n",
       "       sqft_lot  floors  waterfront  view  ...  grade  sqft_above  \\\n",
       "2974      23885     2.0           0     0  ...     12        4860   \n",
       "3761      18564     2.0           0     0  ...     11        4210   \n",
       "4077       8119     1.0           0     0  ...      7        1220   \n",
       "4078       8119     1.0           0     0  ...      7        1220   \n",
       "4149      16573     2.0           0     0  ...     12        5760   \n",
       "4411      35069     2.0           0     0  ...     13        6200   \n",
       "4791       8500     1.0           0     0  ...      7        1320   \n",
       "5178      15438     2.0           0     2  ...      8        2680   \n",
       "5589      17919     1.0           0     1  ...      9        2620   \n",
       "5880      20412     2.0           0     0  ...     11        5450   \n",
       "6868      16238     2.0           0     0  ...      8        2870   \n",
       "7501      14959     1.0           0     0  ...      7        1770   \n",
       "8241      20104     1.0           0     0  ...      9        1820   \n",
       "9254      31374     2.0           0     4  ...     13        8860   \n",
       "9694      10827     1.0           0     0  ...      8        1530   \n",
       "9809      15952     1.0           0     0  ...      8        1150   \n",
       "11278     19865     2.0           0     0  ...      9        3550   \n",
       "11952     20440     1.0           0     0  ...     10        3660   \n",
       "12295      6572     1.0           0     0  ...      9        1960   \n",
       "12811      9382     1.0           0     0  ...      7        1080   \n",
       "13235     13530     1.0           0     0  ...      9        2570   \n",
       "13267     16953     1.0           0     0  ...      9        2550   \n",
       "13419     15593     1.0           0     0  ...      8        1560   \n",
       "13621     16000     2.0           0     0  ...     10        3060   \n",
       "13988     16007     2.0           0     0  ...      9        2740   \n",
       "14052     21000     2.0           0     0  ...     10        4430   \n",
       "14254     17424     1.0           0     0  ...      9        3130   \n",
       "14385     30456     1.0           0     1  ...      8        2070   \n",
       "14803      9930     1.0           0     1  ...      8        1640   \n",
       "15022     23115     2.0           0     2  ...     11        4670   \n",
       "15255     22257     2.0           1     4  ...     11        4830   \n",
       "15632     18916     1.0           0     0  ...      9        4040   \n",
       "16268     17709     2.0           0     0  ...      9        2350   \n",
       "16302     28078     2.0           0     2  ...     12        3350   \n",
       "16377      8119     2.0           0     0  ...      8        2150   \n",
       "16825     19844     2.0           0     0  ...     11        4300   \n",
       "17001     13162     2.0           0     0  ...     10        4240   \n",
       "17209     19865     1.0           0     0  ...      9        3090   \n",
       "17230     19542     1.0           0     0  ...     10        2170   \n",
       "17899     14986     2.0           0     0  ...     11        5180   \n",
       "17930      9600     1.0           0     1  ...      7        1590   \n",
       "18793     20445     2.0           0     0  ...     11        4290   \n",
       "18892     16684     2.0           0     0  ...      9        3250   \n",
       "18912     34412     1.0           0     3  ...      9        2070   \n",
       "19148     19897     2.0           0     0  ...     12        5490   \n",
       "19236     18115     2.0           0     0  ...     11        3990   \n",
       "19351     18713     2.0           0     0  ...     10        4065   \n",
       "20096      8118     2.0           0     0  ...     11        3410   \n",
       "21040     14600     2.0           0     1  ...     11        5190   \n",
       "21514      8797     2.0           0     0  ...     11        3290   \n",
       "\n",
       "       sqft_basement  yr_built  yr_renovated  zipcode      lat     long  \\\n",
       "2974               0      1996             0    98039  47.6172 -122.230   \n",
       "3761               0      2001             0    98039  47.6206 -122.225   \n",
       "4077               0      1955             0    98039  47.6328 -122.236   \n",
       "4078               0      1955             0    98039  47.6328 -122.236   \n",
       "4149            1320      2008             0    98039  47.6151 -122.224   \n",
       "4411            3000      2001             0    98039  47.6289 -122.233   \n",
       "4791               0      1954             0    98039  47.6187 -122.226   \n",
       "5178               0      1902          1956    98039  47.6109 -122.226   \n",
       "5589               0      1949             0    98039  47.6144 -122.228   \n",
       "5880               0      2014             0    98039  47.6209 -122.237   \n",
       "6868               0      1962             0    98039  47.6308 -122.238   \n",
       "7501             870      1929             0    98039  47.6191 -122.234   \n",
       "8241             860      1964             0    98039  47.6304 -122.234   \n",
       "9254            1030      2001             0    98039  47.6305 -122.240   \n",
       "9694               0      1955             0    98039  47.6354 -122.234   \n",
       "9809            1150      1963             0    98039  47.6322 -122.232   \n",
       "11278              0      1962          2002    98039  47.6236 -122.235   \n",
       "11952           1120      1975             0    98039  47.6242 -122.239   \n",
       "12295            700      1959             0    98039  47.6176 -122.223   \n",
       "12811            500      1963             0    98039  47.6353 -122.232   \n",
       "13235           1070      1924          2000    98039  47.6293 -122.238   \n",
       "13267           1910      1962          1994    98039  47.6338 -122.232   \n",
       "13419           1390      1942          1986    98039  47.6209 -122.236   \n",
       "13621              0      1988             0    98039  47.6189 -122.230   \n",
       "13988              0      1984             0    98039  47.6353 -122.229   \n",
       "14052              0      1952          2007    98039  47.6398 -122.237   \n",
       "14254           1020      1963          2000    98039  47.6390 -122.236   \n",
       "14385           1500      1946          1982    98039  47.6413 -122.240   \n",
       "14803           1470      1954             0    98039  47.6112 -122.226   \n",
       "15022              0      1992             0    98039  47.6183 -122.227   \n",
       "15255              0      1990             0    98039  47.6409 -122.241   \n",
       "15632              0      1954             0    98039  47.6155 -122.238   \n",
       "16268              0      1977             0    98039  47.6232 -122.236   \n",
       "16302           2200      2000             0    98039  47.6395 -122.234   \n",
       "16377              0      1953          2004    98039  47.6335 -122.236   \n",
       "16825              0      1985          1999    98039  47.6218 -122.237   \n",
       "17001              0      2004             0    98039  47.6193 -122.229   \n",
       "17209              0      1953             0    98039  47.6232 -122.235   \n",
       "17230           1090      1968             0    98039  47.6245 -122.236   \n",
       "17899           1320      2001             0    98039  47.6304 -122.236   \n",
       "17930            480      1946             0    98039  47.6160 -122.239   \n",
       "18793              0      1985             0    98039  47.6217 -122.239   \n",
       "18892              0      1979             0    98039  47.6334 -122.229   \n",
       "18912           1000      1950             0    98039  47.6400 -122.240   \n",
       "19148              0      2005             0    98039  47.6165 -122.236   \n",
       "19236              0      1989             0    98039  47.6177 -122.229   \n",
       "19351              0      1987             0    98039  47.6209 -122.237   \n",
       "20096              0      2006             0    98039  47.6295 -122.236   \n",
       "21040              0      2013             0    98039  47.6102 -122.225   \n",
       "21514            500      2006             0    98039  47.6351 -122.236   \n",
       "\n",
       "       sqft_living15  sqft_lot15  \n",
       "2974            3580       16054  \n",
       "3761            3520       18564  \n",
       "4077            1910        8119  \n",
       "4078            1910        8119  \n",
       "4149            3140       15996  \n",
       "4411            3560       24345  \n",
       "4791            2790       10800  \n",
       "5178            4480       14406  \n",
       "5589            3400       14400  \n",
       "5880            3160       17825  \n",
       "6868            2870       16238  \n",
       "7501            3240       17904  \n",
       "8241            3060       19837  \n",
       "9254            4540       42730  \n",
       "9694            2050       10827  \n",
       "9809            2200       14284  \n",
       "11278           3000       19862  \n",
       "11952           4660       20440  \n",
       "12295           3960       14595  \n",
       "12811           2010        9382  \n",
       "13235           2760       15000  \n",
       "13267           1980       13370  \n",
       "13419           2060       19855  \n",
       "13621           3510       13162  \n",
       "13988           2760       16008  \n",
       "14052           3930       20000  \n",
       "14254           3930       21420  \n",
       "14385           3570       27418  \n",
       "14803           3650       14399  \n",
       "15022           3240       13912  \n",
       "15255           3820       25582  \n",
       "15632           3000       18831  \n",
       "16268           3360       19855  \n",
       "16302           2980       19602  \n",
       "16377           1590        8119  \n",
       "16825           3070       19845  \n",
       "17001           3010       12163  \n",
       "17209           2970       19862  \n",
       "17230           3480       19863  \n",
       "17899           2270        8119  \n",
       "17930           3000       16215  \n",
       "18793           3620       22325  \n",
       "18892           2890       16927  \n",
       "18912           3780       27940  \n",
       "19148           2910       17600  \n",
       "19236           3450       16087  \n",
       "19351           3070       18713  \n",
       "20096           3410       16236  \n",
       "21040           3840       19250  \n",
       "21514           2660       12150  \n",
       "\n",
       "[50 rows x 21 columns]"
      ]
     },
     "execution_count": 113,
     "metadata": {},
     "output_type": "execute_result"
    }
   ],
   "source": [
    "house1"
   ]
  },
  {
   "cell_type": "markdown",
   "metadata": {
    "colab_type": "text",
    "id": "11lO7LHZRS7W"
   },
   "source": [
    "<img src=\"http://info.kingcounty.gov/Assessor/eRealProperty/MediaHandler.aspx?Media=2916871\">"
   ]
  },
  {
   "cell_type": "code",
   "execution_count": 114,
   "metadata": {
    "colab": {},
    "colab_type": "code",
    "id": "xRqllviGRS7W",
    "outputId": "86d9b5f9-d579-4cb8-dd57-51f29bc72608"
   },
   "outputs": [
    {
     "name": "stdout",
     "output_type": "stream",
     "text": [
      "2160606.6\n"
     ]
    }
   ],
   "source": [
    "print(house1['price'].mean(axis = 0))"
   ]
  },
  {
   "attachments": {},
   "cell_type": "markdown",
   "metadata": {},
   "source": [
    "#### Question 2. What part of the houses people can live in between 2000 sq.ft. and 4000 sq.ft.?(Filtering data)\n",
    "9221/21613 = 4.2631"
   ]
  },
  {
   "cell_type": "code",
   "execution_count": 115,
   "metadata": {
    "colab": {},
    "colab_type": "code",
    "id": "EkQps75SRS7Y",
    "outputId": "f020311f-e74f-4e9a-9419-8e7916a2310b"
   },
   "outputs": [
    {
     "data": {
      "text/plain": [
       "9221"
      ]
     },
     "execution_count": 115,
     "metadata": {},
     "output_type": "execute_result"
    }
   ],
   "source": [
    "len(sales1['sqft_living'])"
   ]
  },
  {
   "cell_type": "code",
   "execution_count": 116,
   "metadata": {},
   "outputs": [
    {
     "data": {
      "text/plain": [
       "21613"
      ]
     },
     "execution_count": 116,
     "metadata": {},
     "output_type": "execute_result"
    }
   ],
   "source": [
    "len(sales['sqft_living'])"
   ]
  },
  {
   "cell_type": "code",
   "execution_count": 143,
   "metadata": {},
   "outputs": [
    {
     "data": {
      "text/plain": [
       "0.0"
      ]
     },
     "execution_count": 143,
     "metadata": {},
     "output_type": "execute_result"
    }
   ],
   "source": [
    "len(sales1['sqft_living'])/len(sales['sqft_living'])"
   ]
  },
  {
   "cell_type": "code",
   "execution_count": 144,
   "metadata": {},
   "outputs": [
    {
     "name": "stdout",
     "output_type": "stream",
     "text": [
      "('result', 0.0)\n"
     ]
    }
   ],
   "source": [
    "fraction_having_sqft_in_this_range = round(len(sales1['sqft_living'])/len(sales['sqft_living']),4)\n",
    "print(\"result\", fraction_having_sqft_in_this_range)"
   ]
  },
  {
   "cell_type": "code",
   "execution_count": 118,
   "metadata": {
    "colab": {},
    "colab_type": "code",
    "id": "NVozsSbsRS7b",
    "outputId": "bc4a1682-7e0e-4cf8-c39d-0b3df3441af0"
   },
   "outputs": [
    {
     "name": "stdout",
     "output_type": "stream",
     "text": [
      "[1384843.10736139 1178118.09243258  254421.79147591  254421.79147591\n",
      " 2120440.69150774 2740522.99811769  286352.32920416  683254.71535523\n",
      "  719558.83034125 1534919.48302726  681756.52635602  608079.10238914\n",
      "  738150.77685993 2928248.02630226  358507.96900482  612054.05025923\n",
      "  946869.51667522 1300481.58748982  619687.0724642   321117.85412794\n",
      "  996588.89227536 1261104.5727083   877024.05329502  853132.5098375\n",
      "  696770.945676   1245130.94030382 1164413.39762525 1012002.00996201\n",
      "  876099.96638316 1162701.8528327  1372930.38748734 1123192.99750817\n",
      "  568547.18082173 1604711.01208086  515557.12398984 1217671.38036113\n",
      " 1200381.31147681  756386.13246851  867549.69641165 1932291.49921482\n",
      "  537427.25052292 1141062.03427178  857211.44954737  799595.48067813\n",
      " 1558972.00346244 1104986.46296058 1131615.74355458  887617.28608844\n",
      " 1442208.78247172 1049145.8889581 ]\n"
     ]
    }
   ],
   "source": [
    "print(my_features_model.predict(house1[my_features].values))"
   ]
  },
  {
   "cell_type": "code",
   "execution_count": null,
   "metadata": {},
   "outputs": [],
   "source": []
  },
  {
   "cell_type": "markdown",
   "metadata": {
    "colab_type": "text",
    "id": "QhXk1y62RS7d"
   },
   "source": [
    "In this case, the model with more features provides a worse prediction than the simpler model with only 1 feature.  However, on average, the model with more features is better."
   ]
  },
  {
   "cell_type": "markdown",
   "metadata": {
    "colab_type": "text",
    "id": "AIKVptU9RS7e"
   },
   "source": [
    "##Prediction for a second, fancier house\n",
    "\n",
    "We will now examine the predictions for a fancier house."
   ]
  },
  {
   "cell_type": "code",
   "execution_count": 119,
   "metadata": {
    "colab": {},
    "colab_type": "code",
    "id": "Xq3URD-zRS7e"
   },
   "outputs": [],
   "source": [
    "house2 = sales.loc[sales['id']==1925069082]"
   ]
  },
  {
   "cell_type": "code",
   "execution_count": 120,
   "metadata": {
    "colab": {},
    "colab_type": "code",
    "id": "8CSGNPbSRS7g",
    "outputId": "5825c7e2-7e92-4f01-f4fd-d922e5bd1e84"
   },
   "outputs": [
    {
     "data": {
      "text/html": [
       "<div>\n",
       "<style scoped>\n",
       "    .dataframe tbody tr th:only-of-type {\n",
       "        vertical-align: middle;\n",
       "    }\n",
       "\n",
       "    .dataframe tbody tr th {\n",
       "        vertical-align: top;\n",
       "    }\n",
       "\n",
       "    .dataframe thead th {\n",
       "        text-align: right;\n",
       "    }\n",
       "</style>\n",
       "<table border=\"1\" class=\"dataframe\">\n",
       "  <thead>\n",
       "    <tr style=\"text-align: right;\">\n",
       "      <th></th>\n",
       "      <th>id</th>\n",
       "      <th>date</th>\n",
       "      <th>price</th>\n",
       "      <th>bedrooms</th>\n",
       "      <th>bathrooms</th>\n",
       "      <th>sqft_living</th>\n",
       "      <th>sqft_lot</th>\n",
       "      <th>floors</th>\n",
       "      <th>waterfront</th>\n",
       "      <th>view</th>\n",
       "      <th>...</th>\n",
       "      <th>grade</th>\n",
       "      <th>sqft_above</th>\n",
       "      <th>sqft_basement</th>\n",
       "      <th>yr_built</th>\n",
       "      <th>yr_renovated</th>\n",
       "      <th>zipcode</th>\n",
       "      <th>lat</th>\n",
       "      <th>long</th>\n",
       "      <th>sqft_living15</th>\n",
       "      <th>sqft_lot15</th>\n",
       "    </tr>\n",
       "  </thead>\n",
       "  <tbody>\n",
       "    <tr>\n",
       "      <th>1361</th>\n",
       "      <td>1925069082</td>\n",
       "      <td>20150511T000000</td>\n",
       "      <td>2200000</td>\n",
       "      <td>5</td>\n",
       "      <td>4.25</td>\n",
       "      <td>4640</td>\n",
       "      <td>22703</td>\n",
       "      <td>2.0</td>\n",
       "      <td>1</td>\n",
       "      <td>4</td>\n",
       "      <td>...</td>\n",
       "      <td>8</td>\n",
       "      <td>2860</td>\n",
       "      <td>1780</td>\n",
       "      <td>1952</td>\n",
       "      <td>0</td>\n",
       "      <td>98052</td>\n",
       "      <td>47.6393</td>\n",
       "      <td>-122.097</td>\n",
       "      <td>3140</td>\n",
       "      <td>14200</td>\n",
       "    </tr>\n",
       "  </tbody>\n",
       "</table>\n",
       "<p>1 rows × 21 columns</p>\n",
       "</div>"
      ],
      "text/plain": [
       "              id             date    price  bedrooms  bathrooms  sqft_living  \\\n",
       "1361  1925069082  20150511T000000  2200000         5       4.25         4640   \n",
       "\n",
       "      sqft_lot  floors  waterfront  view  ...  grade  sqft_above  \\\n",
       "1361     22703     2.0           1     4  ...      8        2860   \n",
       "\n",
       "      sqft_basement  yr_built  yr_renovated  zipcode      lat     long  \\\n",
       "1361           1780      1952             0    98052  47.6393 -122.097   \n",
       "\n",
       "      sqft_living15  sqft_lot15  \n",
       "1361           3140       14200  \n",
       "\n",
       "[1 rows x 21 columns]"
      ]
     },
     "execution_count": 120,
     "metadata": {},
     "output_type": "execute_result"
    }
   ],
   "source": [
    "house2"
   ]
  },
  {
   "cell_type": "markdown",
   "metadata": {
    "colab_type": "text",
    "id": "u3CN-ki2RS7j"
   },
   "source": [
    "<img src=\"https://ssl.cdn-redfin.com/photo/1/bigphoto/302/734302_0.jpg\">"
   ]
  },
  {
   "cell_type": "code",
   "execution_count": 121,
   "metadata": {
    "colab": {},
    "colab_type": "code",
    "id": "zyttMXTBRS7j",
    "outputId": "79f7e2de-96eb-4868-86e7-f43cf1eac1b4"
   },
   "outputs": [
    {
     "name": "stdout",
     "output_type": "stream",
     "text": [
      "[1269357.04273158]\n"
     ]
    }
   ],
   "source": [
    "print(sqft_model.predict(np.reshape(house2[\"sqft_living\"].values, [-1, 1])))"
   ]
  },
  {
   "cell_type": "code",
   "execution_count": 122,
   "metadata": {
    "colab": {},
    "colab_type": "code",
    "id": "EtLPX1CnRS7l",
    "outputId": "26ff00c3-57c2-4493-a09d-671427d60b5c"
   },
   "outputs": [
    {
     "name": "stdout",
     "output_type": "stream",
     "text": [
      "[1274443.76531347]\n"
     ]
    }
   ],
   "source": [
    "print(my_features_model.predict(house2[my_features].values))"
   ]
  },
  {
   "cell_type": "markdown",
   "metadata": {
    "colab_type": "text",
    "id": "pG4uOjfMRS7o"
   },
   "source": [
    "In this case, the model with more features provides a better prediction.  This behavior is expected here, because this house is more differentiated by features that go beyond its square feet of living space, especially the fact that it's a waterfront house. "
   ]
  },
  {
   "cell_type": "markdown",
   "metadata": {
    "colab_type": "text",
    "id": "wHjLHiquRS7o"
   },
   "source": [
    "##Last house, super fancy\n",
    "\n",
    "Our last house is a very large one owned by a famous Seattleite."
   ]
  },
  {
   "cell_type": "code",
   "execution_count": 123,
   "metadata": {
    "colab": {},
    "colab_type": "code",
    "id": "7_b8BhGCRS7p"
   },
   "outputs": [],
   "source": [
    "bill_gates = {'bedrooms':[8], \n",
    "              'bathrooms':[25], \n",
    "              'sqft_living':[50000], \n",
    "              'sqft_lot':[225000],\n",
    "              'floors':[4], \n",
    "              'zipcode':['98039'], \n",
    "              'condition':[10], \n",
    "              'grade':[10],\n",
    "              'waterfront':[1],\n",
    "              'view':[4],\n",
    "              'sqft_above':[37500],\n",
    "              'sqft_basement':[12500],\n",
    "              'yr_built':[1994],\n",
    "              'yr_renovated':[2010],\n",
    "              'lat':[47.627606],\n",
    "              'long':[-122.242054],\n",
    "              'sqft_living15':[5000],\n",
    "              'sqft_lot15':[40000]}"
   ]
  },
  {
   "cell_type": "markdown",
   "metadata": {
    "colab_type": "text",
    "id": "_Fa5mkybRS7r"
   },
   "source": [
    "<img src=\"https://upload.wikimedia.org/wikipedia/commons/thumb/d/d9/Bill_gates%27_house.jpg/2560px-Bill_gates%27_house.jpg\">"
   ]
  },
  {
   "cell_type": "code",
   "execution_count": 70,
   "metadata": {
    "colab": {},
    "colab_type": "code",
    "id": "WLfLmqPORS7r",
    "outputId": "f53fc0df-ba92-4ffd-f09c-a0d1d129f437"
   },
   "outputs": [
    {
     "name": "stdout",
     "output_type": "stream",
     "text": [
      "[15796988.23574059]\n"
     ]
    }
   ],
   "source": [
    "bill_gates=pandas.DataFrame.from_dict(bill_gates)\n",
    "print(my_features_model.predict(bill_gates[my_features].values))"
   ]
  },
  {
   "cell_type": "markdown",
   "metadata": {
    "colab_type": "text",
    "id": "je1bTPgNRS7u"
   },
   "source": [
    "The model predicts a price of over $15M for this house! But we expect the house to cost much more.  (There are very few samples in the dataset of houses that are this fancy, so we don't expect the model to capture a perfect prediction here.)"
   ]
  },
  {
   "cell_type": "code",
   "execution_count": null,
   "metadata": {
    "colab": {},
    "colab_type": "code",
    "id": "HNW9P5C9RS7u"
   },
   "outputs": [],
   "source": []
  }
 ],
 "metadata": {
  "colab": {
   "name": "Predicting house prices.ipynb",
   "provenance": []
  },
  "kernelspec": {
   "display_name": "Python 2",
   "language": "python",
   "name": "python2"
  },
  "language_info": {
   "codemirror_mode": {
    "name": "ipython",
    "version": 2
   },
   "file_extension": ".py",
   "mimetype": "text/x-python",
   "name": "python",
   "nbconvert_exporter": "python",
   "pygments_lexer": "ipython2",
   "version": "2.7.16"
  }
 },
 "nbformat": 4,
 "nbformat_minor": 1
}
